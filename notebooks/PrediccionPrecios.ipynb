{
 "cells": [
  {
   "cell_type": "code",
   "execution_count": null,
   "metadata": {},
   "outputs": [
    {
     "name": "stdout",
     "output_type": "stream",
     "text": [
      "mkdir: cannot create directory ‘build’: File exists\n",
      "-- The C compiler identification is GNU 10.1.0\n",
      "-- The CXX compiler identification is GNU 10.1.0\n",
      "-- Check for working C compiler: /usr/bin/cc\n",
      "-- Check for working C compiler: /usr/bin/cc - works\n",
      "-- Detecting C compiler ABI info\n",
      "-- Detecting C compiler ABI info - done\n",
      "-- Detecting C compile features\n",
      "-- Detecting C compile features - done\n",
      "-- Check for working CXX compiler: /usr/bin/c++\n",
      "-- Check for working CXX compiler: /usr/bin/c++ - works\n",
      "-- Detecting CXX compiler ABI info\n",
      "-- Detecting CXX compiler ABI info - done\n",
      "-- Detecting CXX compile features\n",
      "-- Detecting CXX compile features - done\n",
      "Release mode\n",
      "-- Found PythonInterp: /home/fyulita/.virtualenvs/scienv/bin/python (found version \"3.8.3\") \n",
      "-- Found PythonLibs: /usr/lib/libpython3.8.so\n",
      "-- pybind11 v2.2.4\n",
      "-- Performing Test HAS_FLTO\n",
      "-- Performing Test HAS_FLTO - Success\n",
      "-- LTO enabled\n",
      "CMAKE_INSTALL_PREFIX=/home/fyulita/Documents/UBA/2020-1C/Metodos Numericos/Material/Laboratorio/tp03\n",
      "-- Configuring done\n",
      "-- Generating done\n",
      "-- Build files have been written to: /home/fyulita/Documents/UBA/2020-1C/Metodos Numericos/Material/Laboratorio/tp03/build\n",
      "\u001b[35m\u001b[1mScanning dependencies of target metnum\u001b[0m\n",
      "[ 33%] \u001b[32mBuilding CXX object CMakeFiles/metnum.dir/src/metnum.cpp.o\u001b[0m\n"
     ]
    }
   ],
   "source": [
    "!cd .. && mkdir build\n",
    "!cd ../build/ && rm -rf *\n",
    "!cd ../build && cmake \\\n",
    "  -DPYTHON_EXECUTABLE=\"$(which python)\" \\\n",
    "  -DCMAKE_BUILD_TYPE=Release ..\n",
    "!cd ../build && make install"
   ]
  },
  {
   "cell_type": "code",
   "execution_count": 4,
   "metadata": {},
   "outputs": [],
   "source": [
    "import pandas as pd\n",
    "import numpy as np\n",
    "\n",
    "import seaborn as sns\n",
    "import matplotlib.pyplot as plt"
   ]
  },
  {
   "cell_type": "code",
   "execution_count": 5,
   "metadata": {},
   "outputs": [
    {
     "name": "stdout",
     "output_type": "stream",
     "text": [
      "/home/fyulita/Documents/UBA/2020-1C/Metodos Numericos/Material/Laboratorio/tp03/notebooks\n",
      "Python 3.8.3\n"
     ]
    }
   ],
   "source": [
    "# Verifico la correcta instalación. Si no falla el import está OK\n",
    "!pwd\n",
    "!python --version\n",
    "import metnum\n"
   ]
  },
  {
   "cell_type": "code",
   "execution_count": 6,
   "metadata": {},
   "outputs": [],
   "source": [
    "df = pd.read_csv('../data/train.csv')"
   ]
  },
  {
   "cell_type": "code",
   "execution_count": 7,
   "metadata": {},
   "outputs": [],
   "source": [
    "df = df[df['ciudad']=='Mérida'].dropna()"
   ]
  },
  {
   "cell_type": "code",
   "execution_count": 15,
   "metadata": {},
   "outputs": [
    {
     "name": "stdout",
     "output_type": "stream",
     "text": [
      "[127. 137. 173. 116. 220. 120. 150. 140. 116. 120. 201.  36.  96. 197.\n",
      " 306. 275. 350. 265. 204. 160. 122. 200. 275. 253.  98. 195. 204. 382.\n",
      "  73. 220.  62.  80. 244. 199. 184. 157. 169.  96. 275. 280. 120. 280.\n",
      " 130. 112. 287. 205.  70. 213. 127. 347. 106. 300. 248. 265. 220.  80.\n",
      " 146. 165. 140. 147. 280. 428.  59. 250. 249. 184. 320. 160. 206. 240.\n",
      " 235.  68. 220. 275. 185. 170. 281. 131. 300. 378. 200.  90. 230.  81.\n",
      "  65. 420. 162. 200. 242. 206. 220. 292. 300. 195. 307. 290. 158.  90.\n",
      " 200. 230. 320.  60. 230.  78. 220. 128. 258. 135. 176. 302.  86. 290.\n",
      " 175. 275. 118. 144. 220. 190. 172. 232. 196. 233. 140.  90. 220.  90.\n",
      "  86. 226. 202. 117. 100. 170. 145. 120.  80. 135. 320. 135. 296. 250.\n",
      " 171. 200. 200. 180. 258. 225. 280. 339. 210. 190. 245. 124. 300. 247.\n",
      " 310. 180. 150. 149. 321. 220. 129. 300. 140. 213. 200. 255. 123. 190.\n",
      "  90. 203. 131. 202. 148. 192. 113. 135. 320. 212. 200. 180. 180.  60.\n",
      "  90. 144. 146. 157. 300. 230. 208. 335. 162. 409. 137. 200. 280. 200.\n",
      " 236. 233.  63.  90. 170. 170. 190. 269. 314. 244.  75. 210. 178.  59.\n",
      " 360.  73. 234. 170. 170. 240. 145. 150. 226.  82.  66. 232. 165. 164.\n",
      "  76.  97. 270.  90. 140.  15. 130. 127. 366.  78. 197.  60. 135. 183.\n",
      " 153. 229. 310. 290. 101.  68. 263. 139. 217. 116. 320. 340. 197. 212.\n",
      " 278. 300. 140. 123. 125. 355. 161. 271. 224. 115. 139. 158. 298. 170.\n",
      " 296. 297.  70. 114. 128. 317. 206. 171. 196. 265. 220. 200. 223. 220.\n",
      " 110. 135. 374.  80. 220. 182. 322.  69. 215. 366. 175. 330. 270. 330.\n",
      "  70. 107.  97. 250. 185. 245. 140. 140.  65. 171. 171. 140. 365. 200.\n",
      " 250. 325. 211. 102. 120. 118. 165. 110. 285. 240. 149.  94.  96. 127.\n",
      "  95. 206. 100.  90. 233. 194. 232. 160. 180.  80. 280.  60. 280. 310.\n",
      " 200. 165. 294. 171. 147.  96. 144. 128. 207.  80. 125. 300. 252. 340.\n",
      " 270. 179. 175. 160. 188. 190. 124. 300.  84. 128. 137. 270. 206. 165.\n",
      " 169. 296.  90.  80. 200. 100. 212. 190. 118. 118. 213. 135. 190. 180.\n",
      " 277. 132. 144. 290. 273. 170. 126. 180. 215. 250.  78. 357. 200. 160.\n",
      " 130. 241. 378. 118. 235. 120. 240. 170. 130. 366. 280. 200.  90.  60.\n",
      " 126. 129. 150. 167. 155. 350. 267. 160. 188. 225. 126. 107.  68. 320.\n",
      "  96. 110. 267. 192. 259. 225.  68. 232.  80. 131. 140. 206. 249. 234.\n",
      "  95. 260. 247. 290. 145. 265. 161. 160. 128. 158. 410.  90. 206. 320.\n",
      " 172. 100. 340. 310. 175. 298. 120. 280. 120. 129.  58.  88. 320.  80.\n",
      " 206. 143.  73. 310. 223. 131.  96.  65. 162. 245.  90. 190. 102. 216.\n",
      " 280. 280. 100. 105.  97. 232.  98. 200. 260. 102. 175.  80. 152. 130.\n",
      " 170.  72. 147. 140. 180. 218. 286. 175. 255. 238. 170.  76. 190.  69.\n",
      " 300. 172. 107. 410. 140. 113. 319. 196. 150. 136. 165. 199. 112. 198.]\n"
     ]
    }
   ],
   "source": [
    "x = df['metroscubiertos'].values\n",
    "\n",
    "print(x)"
   ]
  },
  {
   "cell_type": "code",
   "execution_count": 16,
   "metadata": {},
   "outputs": [
    {
     "name": "stdout",
     "output_type": "stream",
     "text": [
      "[1250000.  560000. 1350000.  980000. 1200000. 1050000. 1290000.  900000.\n",
      " 1580000.  750000. 1750000. 1075000.  890000. 1980000. 1090000. 2950000.\n",
      " 3150000. 2120000.  745000. 1150000.  798000. 1850000. 4400000. 2695000.\n",
      "  550000.  750000. 1250000. 2900000.  424000. 2340000.  335000.  550000.\n",
      " 1700000.  850000. 1000000. 1590000. 1450000. 1095000. 2600000. 2400000.\n",
      " 1120000. 1760000. 1050000.  789000. 1890000. 1890000.  385000. 1600000.\n",
      "  900000. 3150000. 1045000. 1900000. 2780000. 1980000. 1790000.  530000.\n",
      " 1445000. 1549000. 1350000.  785000. 1650000. 4900000.  600000. 2350000.\n",
      " 2175000.  600000. 3380000. 1550000. 2150000. 1950000.  650000.  419000.\n",
      " 1800000. 1450000.  900000. 1400000.  430000.  925000. 3000000. 2300000.\n",
      " 1490000.  530000. 2000000.  525000.  380000. 4000000. 1450000.  795000.\n",
      " 1595000. 2400000. 1190000. 1100000. 1590000. 1950000. 3500000. 1850000.\n",
      "  829000.  450000. 3000000. 1200000. 2700000.  375000. 1650000.  495000.\n",
      " 1810000. 1150000. 1280000.  890000. 1400000. 2800000.  340000. 3100000.\n",
      " 1750000. 2490000. 1150000. 1300000. 2340000. 1960000. 1290000. 2468700.\n",
      " 1320000. 2075000.  580000.  450000. 2040000. 1140000.  540000. 1860000.\n",
      " 1705000. 1039000.  450000. 1750250. 1300000.  850000.  650000. 1350000.\n",
      " 2690000.  895000. 2750000. 1260000. 1750000. 1800000. 1570000. 1230000.\n",
      " 1800000. 1750000. 1456000. 1500000.  800000. 1350000. 1490000.  805000.\n",
      " 3600000. 1650000. 2640000. 1500000. 1250000.  950000.  750000. 1400000.\n",
      "  785000. 4200000.  630000. 1600000. 1500000. 1950000.  780000. 1500000.\n",
      "  585000.  890000. 1470000. 1300000. 1320000. 1500000.  870000. 1458500.\n",
      " 1900000. 1300000. 1620000. 1900000.  550000.  348000. 1140000. 1155000.\n",
      "  945000. 1549000. 2800000. 1890000.  900000. 3350000. 1390000. 1850000.\n",
      "  560000. 2400000. 2750000. 1229000. 2270000. 1490000.  350000.  600000.\n",
      " 2395000. 3700000.  690000. 1700000. 1378000. 2468700.  480000. 1190000.\n",
      " 1090000.  350000. 3200000.  412000. 1960000.  900000. 1400000. 1260000.\n",
      " 1450000. 1100000. 2945000.  839000.  350000. 2355000. 1295000. 1250000.\n",
      "  580000.  649800. 3130000.  620000.  750000. 1850000. 1500000. 1250000.\n",
      " 3600000.  935000. 1950000.  490000. 1180000. 1400000. 1580000. 1649000.\n",
      " 1100000. 2340000.  650000.  450000. 2592500. 1250000. 1950000.  894000.\n",
      " 2950000. 3250000.  950000. 3709892.  930000. 4750000. 1075000.  769000.\n",
      " 1150000. 4150000. 1450000.  950000. 1189000.  670000. 1308000. 1200000.\n",
      " 2150000. 1820000. 2700000. 1950000.  480000.  830000.  845000. 1900000.\n",
      " 2180000. 1050000. 1722000. 2300000. 2040000.  650000. 2000000. 1870000.\n",
      " 1300000. 1180000. 4800000.  360000. 1800000. 1630000. 5990000.  420000.\n",
      " 1890000. 3600000.  740000. 2700000. 3450000. 3300000.  400000.  890000.\n",
      "  680000. 2599000. 2340000. 2400000.  780000.  940000.  450000. 1990000.\n",
      " 2000000.  480000. 4250000. 1950000. 1900000. 3550000. 2200000.  600000.\n",
      "  449000.  696000.  995000.  690000. 2950000. 2100000.  895000.  572000.\n",
      "  860000. 1413000. 1370000. 2160500.  630000.  410000. 1830000. 1550000.\n",
      " 2374370.  560000. 1390000.  660000. 2995000.  311000. 3030000. 2670000.\n",
      " 1290000. 1550000. 2290000. 1150000. 1300000.  650000.  830000.  550000.\n",
      " 2250000.  380000. 1200000. 1980000. 2250000. 3700000. 2950000. 1695000.\n",
      " 1850000. 1495000. 1550000.  730000. 1000000. 2200000.  470000. 1050000.\n",
      "  560000. 2670000. 1850000.  995000. 1350000. 1495000. 2100000.  575000.\n",
      " 1900000.  620000. 3506515. 1400000. 1400000.  630000. 2350000. 1039000.\n",
      "  550000. 1350000. 1972000. 1335000. 1599000. 3590000. 1700000. 1950000.\n",
      "  997500. 1280000. 1795000. 2280000.  560000. 3700000.  750000. 7000000.\n",
      "  750000. 3500000. 2750000.  746000. 1890000.  550000. 2100000. 1290000.\n",
      "  860000. 3600000. 3200000. 1500000.  680000.  350000. 1360000. 1220000.\n",
      " 1300000. 2090000. 1137000. 2350000. 3200000. 1380000.  870000. 1750000.\n",
      " 1520000. 1189000.  429450. 3599000.  530000.  840000. 1100000. 1650000.\n",
      " 1500000. 1550000.  445000. 2374370.  480000. 1499000. 1195000. 2100000.\n",
      " 1300000. 1390000. 1340000. 2580000. 1300000. 2750000. 1175000. 2980000.\n",
      " 1290000. 1200000.  670000. 1200000. 3600000.  680000. 1850000. 3599000.\n",
      " 1530000.  750000. 3150000. 2700000. 2395000. 2290000.  380000. 2950000.\n",
      "  750000. 1100000.  315000.  650000. 1500000.  685000. 2150000. 1800000.\n",
      "  479000. 2600000. 1300000.  800000.  420000.  530000.  900000. 1300000.\n",
      "  780000.  800000.  960000. 1600000. 5500000. 1760000.  680000.  630000.\n",
      "  680000. 2374370.  650000. 1150000. 1000000. 1230000. 1600000. 1610000.\n",
      " 1250000.  750000. 1695000. 2306700.  450000.  580000.  990000. 1850000.\n",
      " 2200000. 1250000. 2800000. 2650000. 1150000.  935000. 1250000.  425000.\n",
      " 5550000. 1350000.  520000. 3600000.  470000.  550000. 5500000. 1500000.\n",
      " 2500000. 1200000. 1400000. 1495000.  890000. 2200000.]\n"
     ]
    }
   ],
   "source": [
    "y = df['precio'].values\n",
    "\n",
    "print(y)"
   ]
  },
  {
   "cell_type": "code",
   "execution_count": 10,
   "metadata": {},
   "outputs": [],
   "source": [
    "x = x.reshape(len(x),1)\n",
    "y = y.reshape(len(y),1)"
   ]
  },
  {
   "cell_type": "code",
   "execution_count": 11,
   "metadata": {},
   "outputs": [
    {
     "data": {
      "text/plain": [
       "(518, 1)"
      ]
     },
     "execution_count": 11,
     "metadata": {},
     "output_type": "execute_result"
    }
   ],
   "source": [
    "x.shape"
   ]
  },
  {
   "cell_type": "code",
   "execution_count": 12,
   "metadata": {},
   "outputs": [
    {
     "data": {
      "text/plain": [
       "LinearRegression()"
      ]
     },
     "execution_count": 12,
     "metadata": {},
     "output_type": "execute_result"
    }
   ],
   "source": [
    "from sklearn.linear_model import LinearRegression\n",
    "\n",
    "\"\"\"\n",
    "Reemplazar por nuestra implementación \n",
    "\"\"\"\n",
    "\n",
    "linear_regressor = LinearRegression()\n",
    "#linear_regressor = metnum.LinearRegression()\n",
    "\n",
    "linear_regressor.fit(x,y)"
   ]
  },
  {
   "cell_type": "code",
   "execution_count": 13,
   "metadata": {},
   "outputs": [],
   "source": [
    "df['prediction'] = linear_regressor.predict(x)"
   ]
  },
  {
   "cell_type": "code",
   "execution_count": 14,
   "metadata": {},
   "outputs": [
    {
     "data": {
      "text/plain": [
       "<matplotlib.axes._subplots.AxesSubplot at 0x7f7779bbd910>"
      ]
     },
     "execution_count": 14,
     "metadata": {},
     "output_type": "execute_result"
    },
    {
     "data": {
      "image/png": "[encoded data removed]",
      "text/plain": [
       "<Figure size 432x288 with 1 Axes>"
      ]
     },
     "metadata": {
      "needs_background": "light"
     },
     "output_type": "display_data"
    }
   ],
   "source": [
    "sns.scatterplot(data=df, x='metroscubiertos', y='precio')\n",
    "sns.lineplot(data=df, x='metroscubiertos', y='prediction', color='red')\n"
   ]
  },
  {
   "cell_type": "code",
   "execution_count": null,
   "metadata": {},
   "outputs": [],
   "source": []
  }
 ],
 "metadata": {
  "kernelspec": {
   "display_name": "Python 3",
   "language": "python",
   "name": "python3"
  },
  "language_info": {
   "codemirror_mode": {
    "name": "ipython",
    "version": 3
   },
   "file_extension": ".py",
   "mimetype": "text/x-python",
   "name": "python",
   "nbconvert_exporter": "python",
   "pygments_lexer": "ipython3",
   "version": "3.8.3"
  }
 },
 "nbformat": 4,
 "nbformat_minor": 4
}
