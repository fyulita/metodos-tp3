{
 "cells": [
  {
   "cell_type": "markdown",
   "metadata": {},
   "source": [
    "# Experimentación"
   ]
  },
  {
   "cell_type": "markdown",
   "metadata": {},
   "source": [
    "## Compilado y Preparación"
   ]
  },
  {
   "cell_type": "markdown",
   "metadata": {},
   "source": [
    "#### Compilamos el código de C++."
   ]
  },
  {
   "cell_type": "code",
   "execution_count": 1,
   "metadata": {},
   "outputs": [
    {
     "name": "stdout",
     "output_type": "stream",
     "text": [
      "mkdir: cannot create directory ‘build’: File exists\n",
      "-- The C compiler identification is GNU 10.1.0\n",
      "-- The CXX compiler identification is GNU 10.1.0\n",
      "-- Check for working C compiler: /usr/bin/cc\n",
      "-- Check for working C compiler: /usr/bin/cc - works\n",
      "-- Detecting C compiler ABI info\n",
      "-- Detecting C compiler ABI info - done\n",
      "-- Detecting C compile features\n",
      "-- Detecting C compile features - done\n",
      "-- Check for working CXX compiler: /usr/bin/c++\n",
      "-- Check for working CXX compiler: /usr/bin/c++ - works\n",
      "-- Detecting CXX compiler ABI info\n",
      "-- Detecting CXX compiler ABI info - done\n",
      "-- Detecting CXX compile features\n",
      "-- Detecting CXX compile features - done\n",
      "Release mode\n",
      "-- Found PythonInterp: /home/fyulita/.virtualenvs/scienv/bin/python (found version \"3.8.3\") \n",
      "-- Found PythonLibs: /usr/lib/libpython3.8.so\n",
      "-- pybind11 v2.2.4\n",
      "-- Performing Test HAS_FLTO\n",
      "-- Performing Test HAS_FLTO - Success\n",
      "-- LTO enabled\n",
      "CMAKE_INSTALL_PREFIX=/home/fyulita/Documents/UBA/2020-1C/Metodos Numericos/Material/Laboratorio/tp03\n",
      "-- Configuring done\n",
      "-- Generating done\n",
      "-- Build files have been written to: /home/fyulita/Documents/UBA/2020-1C/Metodos Numericos/Material/Laboratorio/tp03/build\n",
      "\u001b[35m\u001b[1mScanning dependencies of target tp3\u001b[0m\n",
      "[ 16%] \u001b[32mBuilding CXX object CMakeFiles/tp3.dir/src/main.cpp.o\u001b[0m\n",
      "[ 33%] \u001b[32mBuilding CXX object CMakeFiles/tp3.dir/src/linear_regression.cpp.o\u001b[0m\n",
      "[ 50%] \u001b[32m\u001b[1mLinking CXX executable tp3\u001b[0m\n",
      "[ 50%] Built target tp3\n",
      "\u001b[35m\u001b[1mScanning dependencies of target metnum\u001b[0m\n",
      "[ 66%] \u001b[32mBuilding CXX object CMakeFiles/metnum.dir/src/metnum.cpp.o\u001b[0m\n",
      "[ 83%] \u001b[32mBuilding CXX object CMakeFiles/metnum.dir/src/linear_regression.cpp.o\u001b[0m\n",
      "[100%] \u001b[32m\u001b[1mLinking CXX shared module metnum.cpython-38-x86_64-linux-gnu.so\u001b[0m\n",
      "[100%] Built target metnum\n",
      "\u001b[36mInstall the project...\u001b[0m\n",
      "-- Install configuration: \"Release\"\n",
      "-- Installing: /home/fyulita/Documents/UBA/2020-1C/Metodos Numericos/Material/Laboratorio/tp03/notebooks/metnum.cpython-38-x86_64-linux-gnu.so\n"
     ]
    }
   ],
   "source": [
    "!cd .. && mkdir build\n",
    "!cd ../build/ && rm -rf *\n",
    "!cd ../build && cmake \\\n",
    "  -DPYTHON_EXECUTABLE=\"$(which python)\" \\\n",
    "  -DCMAKE_BUILD_TYPE=Release ..\n",
    "!cd ../build && make install"
   ]
  },
  {
   "cell_type": "markdown",
   "metadata": {},
   "source": [
    "#### Importamos las librerías necesarias."
   ]
  },
  {
   "cell_type": "code",
   "execution_count": 2,
   "metadata": {},
   "outputs": [
    {
     "name": "stdout",
     "output_type": "stream",
     "text": [
      "/home/fyulita/Documents/UBA/2020-1C/Metodos Numericos/Material/Laboratorio/tp03/notebooks\n",
      "Python 3.8.3\n"
     ]
    }
   ],
   "source": [
    "import metnum\n",
    "import numpy as np\n",
    "import matplotlib.pyplot as plt\n",
    "import pandas as pd\n",
    "\n",
    "!pwd\n",
    "!python --version"
   ]
  },
  {
   "cell_type": "markdown",
   "metadata": {},
   "source": [
    "#### Importamos los datos de entrenamiento y test."
   ]
  },
  {
   "cell_type": "code",
   "execution_count": 3,
   "metadata": {},
   "outputs": [
    {
     "data": {
      "text/html": [
       "<div>\n",
       "<style scoped>\n",
       "    .dataframe tbody tr th:only-of-type {\n",
       "        vertical-align: middle;\n",
       "    }\n",
       "\n",
       "    .dataframe tbody tr th {\n",
       "        vertical-align: top;\n",
       "    }\n",
       "\n",
       "    .dataframe thead th {\n",
       "        text-align: right;\n",
       "    }\n",
       "</style>\n",
       "<table border=\"1\" class=\"dataframe\">\n",
       "  <thead>\n",
       "    <tr style=\"text-align: right;\">\n",
       "      <th></th>\n",
       "      <th>id</th>\n",
       "      <th>titulo</th>\n",
       "      <th>descripcion</th>\n",
       "      <th>tipodepropiedad</th>\n",
       "      <th>direccion</th>\n",
       "      <th>ciudad</th>\n",
       "      <th>provincia</th>\n",
       "      <th>antiguedad</th>\n",
       "      <th>habitaciones</th>\n",
       "      <th>garages</th>\n",
       "      <th>...</th>\n",
       "      <th>idzona</th>\n",
       "      <th>lat</th>\n",
       "      <th>lng</th>\n",
       "      <th>fecha</th>\n",
       "      <th>gimnasio</th>\n",
       "      <th>usosmultiples</th>\n",
       "      <th>piscina</th>\n",
       "      <th>escuelascercanas</th>\n",
       "      <th>centroscomercialescercanos</th>\n",
       "      <th>precio</th>\n",
       "    </tr>\n",
       "  </thead>\n",
       "  <tbody>\n",
       "    <tr>\n",
       "      <th>0</th>\n",
       "      <td>254099</td>\n",
       "      <td>depto. tipo a-402</td>\n",
       "      <td>depto. interior de 80.15m2, consta de sala com...</td>\n",
       "      <td>Apartamento</td>\n",
       "      <td>Avenida Division del Norte 2005</td>\n",
       "      <td>Benito Juárez</td>\n",
       "      <td>Distrito Federal</td>\n",
       "      <td>NaN</td>\n",
       "      <td>2.0</td>\n",
       "      <td>1.0</td>\n",
       "      <td>...</td>\n",
       "      <td>23533.0</td>\n",
       "      <td>NaN</td>\n",
       "      <td>NaN</td>\n",
       "      <td>2015-08-23 00:00:00</td>\n",
       "      <td>0.0</td>\n",
       "      <td>0.0</td>\n",
       "      <td>0.0</td>\n",
       "      <td>0.0</td>\n",
       "      <td>0.0</td>\n",
       "      <td>2273000.0</td>\n",
       "    </tr>\n",
       "    <tr>\n",
       "      <th>1</th>\n",
       "      <td>53461</td>\n",
       "      <td>condominio horizontal en venta</td>\n",
       "      <td>&lt;p&gt;entre sonora y guerrero, atr&amp;aacute;s del h...</td>\n",
       "      <td>Casa en condominio</td>\n",
       "      <td>AV. MEXICO</td>\n",
       "      <td>La Magdalena Contreras</td>\n",
       "      <td>Distrito Federal</td>\n",
       "      <td>10.0</td>\n",
       "      <td>3.0</td>\n",
       "      <td>2.0</td>\n",
       "      <td>...</td>\n",
       "      <td>24514.0</td>\n",
       "      <td>19.310205</td>\n",
       "      <td>-99.227655</td>\n",
       "      <td>2013-06-28 00:00:00</td>\n",
       "      <td>0.0</td>\n",
       "      <td>0.0</td>\n",
       "      <td>0.0</td>\n",
       "      <td>1.0</td>\n",
       "      <td>1.0</td>\n",
       "      <td>3600000.0</td>\n",
       "    </tr>\n",
       "    <tr>\n",
       "      <th>2</th>\n",
       "      <td>247984</td>\n",
       "      <td>casa en venta urbi 3 recamaras tonala</td>\n",
       "      <td>descripcion \\nla mejor ubicacion residencial e...</td>\n",
       "      <td>Casa</td>\n",
       "      <td>Urbi Tonala</td>\n",
       "      <td>Tonalá</td>\n",
       "      <td>Jalisco</td>\n",
       "      <td>5.0</td>\n",
       "      <td>3.0</td>\n",
       "      <td>2.0</td>\n",
       "      <td>...</td>\n",
       "      <td>48551.0</td>\n",
       "      <td>NaN</td>\n",
       "      <td>NaN</td>\n",
       "      <td>2015-10-17 00:00:00</td>\n",
       "      <td>0.0</td>\n",
       "      <td>0.0</td>\n",
       "      <td>0.0</td>\n",
       "      <td>0.0</td>\n",
       "      <td>0.0</td>\n",
       "      <td>1200000.0</td>\n",
       "    </tr>\n",
       "    <tr>\n",
       "      <th>3</th>\n",
       "      <td>209067</td>\n",
       "      <td>casa sola en toluca zinacantepec con credito i...</td>\n",
       "      <td>casa en privada con caseta de vigilancia casas...</td>\n",
       "      <td>Casa</td>\n",
       "      <td>IGNACIO MANUEL ALTAMIRANO 128</td>\n",
       "      <td>Zinacantepec</td>\n",
       "      <td>Edo. de México</td>\n",
       "      <td>1.0</td>\n",
       "      <td>2.0</td>\n",
       "      <td>1.0</td>\n",
       "      <td>...</td>\n",
       "      <td>53666.0</td>\n",
       "      <td>19.301890</td>\n",
       "      <td>-99.688015</td>\n",
       "      <td>2012-03-09 00:00:00</td>\n",
       "      <td>0.0</td>\n",
       "      <td>0.0</td>\n",
       "      <td>0.0</td>\n",
       "      <td>1.0</td>\n",
       "      <td>1.0</td>\n",
       "      <td>650000.0</td>\n",
       "    </tr>\n",
       "    <tr>\n",
       "      <th>4</th>\n",
       "      <td>185997</td>\n",
       "      <td>paseos del sol</td>\n",
       "      <td>bonito departamento en excelentes condiciones ...</td>\n",
       "      <td>Apartamento</td>\n",
       "      <td>PASEOS DEL SOL</td>\n",
       "      <td>Zapopan</td>\n",
       "      <td>Jalisco</td>\n",
       "      <td>10.0</td>\n",
       "      <td>2.0</td>\n",
       "      <td>1.0</td>\n",
       "      <td>...</td>\n",
       "      <td>47835.0</td>\n",
       "      <td>NaN</td>\n",
       "      <td>NaN</td>\n",
       "      <td>2016-06-07 00:00:00</td>\n",
       "      <td>0.0</td>\n",
       "      <td>0.0</td>\n",
       "      <td>0.0</td>\n",
       "      <td>0.0</td>\n",
       "      <td>0.0</td>\n",
       "      <td>1150000.0</td>\n",
       "    </tr>\n",
       "    <tr>\n",
       "      <th>...</th>\n",
       "      <td>...</td>\n",
       "      <td>...</td>\n",
       "      <td>...</td>\n",
       "      <td>...</td>\n",
       "      <td>...</td>\n",
       "      <td>...</td>\n",
       "      <td>...</td>\n",
       "      <td>...</td>\n",
       "      <td>...</td>\n",
       "      <td>...</td>\n",
       "      <td>...</td>\n",
       "      <td>...</td>\n",
       "      <td>...</td>\n",
       "      <td>...</td>\n",
       "      <td>...</td>\n",
       "      <td>...</td>\n",
       "      <td>...</td>\n",
       "      <td>...</td>\n",
       "      <td>...</td>\n",
       "      <td>...</td>\n",
       "      <td>...</td>\n",
       "    </tr>\n",
       "    <tr>\n",
       "      <th>239995</th>\n",
       "      <td>119879</td>\n",
       "      <td>bonita casas de 2 recamaras a 10 minutos del c...</td>\n",
       "      <td>vendo casa en bosques de ica residencial a 10 ...</td>\n",
       "      <td>Casa</td>\n",
       "      <td>BOSQUES</td>\n",
       "      <td>Zinacantepec</td>\n",
       "      <td>Edo. de México</td>\n",
       "      <td>0.0</td>\n",
       "      <td>2.0</td>\n",
       "      <td>2.0</td>\n",
       "      <td>...</td>\n",
       "      <td>53666.0</td>\n",
       "      <td>NaN</td>\n",
       "      <td>NaN</td>\n",
       "      <td>2015-02-08 00:00:00</td>\n",
       "      <td>0.0</td>\n",
       "      <td>0.0</td>\n",
       "      <td>0.0</td>\n",
       "      <td>0.0</td>\n",
       "      <td>0.0</td>\n",
       "      <td>650000.0</td>\n",
       "    </tr>\n",
       "    <tr>\n",
       "      <th>239996</th>\n",
       "      <td>259178</td>\n",
       "      <td>casa en condominio a 10 min. del centro de toluca</td>\n",
       "      <td>casa con un jardin amplio, un cuarto de servic...</td>\n",
       "      <td>Casa</td>\n",
       "      <td>Filiberto Navas 325</td>\n",
       "      <td>Toluca</td>\n",
       "      <td>Edo. de México</td>\n",
       "      <td>0.0</td>\n",
       "      <td>3.0</td>\n",
       "      <td>3.0</td>\n",
       "      <td>...</td>\n",
       "      <td>51954.0</td>\n",
       "      <td>19.294665</td>\n",
       "      <td>-99.692916</td>\n",
       "      <td>2014-07-10 00:00:00</td>\n",
       "      <td>0.0</td>\n",
       "      <td>0.0</td>\n",
       "      <td>0.0</td>\n",
       "      <td>1.0</td>\n",
       "      <td>1.0</td>\n",
       "      <td>1940000.0</td>\n",
       "    </tr>\n",
       "    <tr>\n",
       "      <th>239997</th>\n",
       "      <td>131932</td>\n",
       "      <td>nicolas san juan</td>\n",
       "      <td>departamento con excelente ubicación, muy cerc...</td>\n",
       "      <td>Apartamento</td>\n",
       "      <td>Nicolas San Juan</td>\n",
       "      <td>Benito Juárez</td>\n",
       "      <td>Distrito Federal</td>\n",
       "      <td>20.0</td>\n",
       "      <td>2.0</td>\n",
       "      <td>1.0</td>\n",
       "      <td>...</td>\n",
       "      <td>50003995.0</td>\n",
       "      <td>NaN</td>\n",
       "      <td>NaN</td>\n",
       "      <td>2015-03-03 00:00:00</td>\n",
       "      <td>0.0</td>\n",
       "      <td>0.0</td>\n",
       "      <td>0.0</td>\n",
       "      <td>0.0</td>\n",
       "      <td>0.0</td>\n",
       "      <td>3400000.0</td>\n",
       "    </tr>\n",
       "    <tr>\n",
       "      <th>239998</th>\n",
       "      <td>146867</td>\n",
       "      <td>casa sola. javier rojo gomez.</td>\n",
       "      <td>casa sola, dividida en cuatro departamentos de...</td>\n",
       "      <td>Casa</td>\n",
       "      <td>Javier Rojo Gomez 120</td>\n",
       "      <td>Iztapalapa</td>\n",
       "      <td>Distrito Federal</td>\n",
       "      <td>20.0</td>\n",
       "      <td>4.0</td>\n",
       "      <td>0.0</td>\n",
       "      <td>...</td>\n",
       "      <td>24162.0</td>\n",
       "      <td>19.366651</td>\n",
       "      <td>-99.082246</td>\n",
       "      <td>2014-12-26 00:00:00</td>\n",
       "      <td>1.0</td>\n",
       "      <td>0.0</td>\n",
       "      <td>0.0</td>\n",
       "      <td>1.0</td>\n",
       "      <td>1.0</td>\n",
       "      <td>2890000.0</td>\n",
       "    </tr>\n",
       "    <tr>\n",
       "      <th>239999</th>\n",
       "      <td>121958</td>\n",
       "      <td>departamento en bosques de las lomas  / av. st...</td>\n",
       "      <td>id:19816, muy bonito e iluminado departamento,...</td>\n",
       "      <td>Apartamento</td>\n",
       "      <td>AVE. STIM</td>\n",
       "      <td>Cuajimalpa de Morelos</td>\n",
       "      <td>Distrito Federal</td>\n",
       "      <td>1.0</td>\n",
       "      <td>3.0</td>\n",
       "      <td>2.0</td>\n",
       "      <td>...</td>\n",
       "      <td>23750.0</td>\n",
       "      <td>NaN</td>\n",
       "      <td>NaN</td>\n",
       "      <td>2015-06-19 00:00:00</td>\n",
       "      <td>0.0</td>\n",
       "      <td>0.0</td>\n",
       "      <td>0.0</td>\n",
       "      <td>0.0</td>\n",
       "      <td>0.0</td>\n",
       "      <td>3650000.0</td>\n",
       "    </tr>\n",
       "  </tbody>\n",
       "</table>\n",
       "<p>240000 rows × 23 columns</p>\n",
       "</div>"
      ],
      "text/plain": [
       "            id                                             titulo  \\\n",
       "0       254099                                  depto. tipo a-402   \n",
       "1        53461                     condominio horizontal en venta   \n",
       "2       247984              casa en venta urbi 3 recamaras tonala   \n",
       "3       209067  casa sola en toluca zinacantepec con credito i...   \n",
       "4       185997                                     paseos del sol   \n",
       "...        ...                                                ...   \n",
       "239995  119879  bonita casas de 2 recamaras a 10 minutos del c...   \n",
       "239996  259178  casa en condominio a 10 min. del centro de toluca   \n",
       "239997  131932                                   nicolas san juan   \n",
       "239998  146867                      casa sola. javier rojo gomez.   \n",
       "239999  121958  departamento en bosques de las lomas  / av. st...   \n",
       "\n",
       "                                              descripcion     tipodepropiedad  \\\n",
       "0       depto. interior de 80.15m2, consta de sala com...         Apartamento   \n",
       "1       <p>entre sonora y guerrero, atr&aacute;s del h...  Casa en condominio   \n",
       "2       descripcion \\nla mejor ubicacion residencial e...                Casa   \n",
       "3       casa en privada con caseta de vigilancia casas...                Casa   \n",
       "4       bonito departamento en excelentes condiciones ...         Apartamento   \n",
       "...                                                   ...                 ...   \n",
       "239995  vendo casa en bosques de ica residencial a 10 ...                Casa   \n",
       "239996  casa con un jardin amplio, un cuarto de servic...                Casa   \n",
       "239997  departamento con excelente ubicación, muy cerc...         Apartamento   \n",
       "239998  casa sola, dividida en cuatro departamentos de...                Casa   \n",
       "239999  id:19816, muy bonito e iluminado departamento,...         Apartamento   \n",
       "\n",
       "                              direccion                  ciudad  \\\n",
       "0       Avenida Division del Norte 2005           Benito Juárez   \n",
       "1                            AV. MEXICO  La Magdalena Contreras   \n",
       "2                           Urbi Tonala                  Tonalá   \n",
       "3         IGNACIO MANUEL ALTAMIRANO 128            Zinacantepec   \n",
       "4                       PASEOS DEL SOL                  Zapopan   \n",
       "...                                 ...                     ...   \n",
       "239995                          BOSQUES            Zinacantepec   \n",
       "239996              Filiberto Navas 325                  Toluca   \n",
       "239997                 Nicolas San Juan           Benito Juárez   \n",
       "239998            Javier Rojo Gomez 120              Iztapalapa   \n",
       "239999                        AVE. STIM   Cuajimalpa de Morelos   \n",
       "\n",
       "               provincia  antiguedad  habitaciones  garages  ...      idzona  \\\n",
       "0       Distrito Federal         NaN           2.0      1.0  ...     23533.0   \n",
       "1       Distrito Federal        10.0           3.0      2.0  ...     24514.0   \n",
       "2                Jalisco         5.0           3.0      2.0  ...     48551.0   \n",
       "3         Edo. de México         1.0           2.0      1.0  ...     53666.0   \n",
       "4                Jalisco        10.0           2.0      1.0  ...     47835.0   \n",
       "...                  ...         ...           ...      ...  ...         ...   \n",
       "239995    Edo. de México         0.0           2.0      2.0  ...     53666.0   \n",
       "239996    Edo. de México         0.0           3.0      3.0  ...     51954.0   \n",
       "239997  Distrito Federal        20.0           2.0      1.0  ...  50003995.0   \n",
       "239998  Distrito Federal        20.0           4.0      0.0  ...     24162.0   \n",
       "239999  Distrito Federal         1.0           3.0      2.0  ...     23750.0   \n",
       "\n",
       "              lat        lng                fecha  gimnasio  usosmultiples  \\\n",
       "0             NaN        NaN  2015-08-23 00:00:00       0.0            0.0   \n",
       "1       19.310205 -99.227655  2013-06-28 00:00:00       0.0            0.0   \n",
       "2             NaN        NaN  2015-10-17 00:00:00       0.0            0.0   \n",
       "3       19.301890 -99.688015  2012-03-09 00:00:00       0.0            0.0   \n",
       "4             NaN        NaN  2016-06-07 00:00:00       0.0            0.0   \n",
       "...           ...        ...                  ...       ...            ...   \n",
       "239995        NaN        NaN  2015-02-08 00:00:00       0.0            0.0   \n",
       "239996  19.294665 -99.692916  2014-07-10 00:00:00       0.0            0.0   \n",
       "239997        NaN        NaN  2015-03-03 00:00:00       0.0            0.0   \n",
       "239998  19.366651 -99.082246  2014-12-26 00:00:00       1.0            0.0   \n",
       "239999        NaN        NaN  2015-06-19 00:00:00       0.0            0.0   \n",
       "\n",
       "       piscina  escuelascercanas  centroscomercialescercanos     precio  \n",
       "0          0.0               0.0                         0.0  2273000.0  \n",
       "1          0.0               1.0                         1.0  3600000.0  \n",
       "2          0.0               0.0                         0.0  1200000.0  \n",
       "3          0.0               1.0                         1.0   650000.0  \n",
       "4          0.0               0.0                         0.0  1150000.0  \n",
       "...        ...               ...                         ...        ...  \n",
       "239995     0.0               0.0                         0.0   650000.0  \n",
       "239996     0.0               1.0                         1.0  1940000.0  \n",
       "239997     0.0               0.0                         0.0  3400000.0  \n",
       "239998     0.0               1.0                         1.0  2890000.0  \n",
       "239999     0.0               0.0                         0.0  3650000.0  \n",
       "\n",
       "[240000 rows x 23 columns]"
      ]
     },
     "metadata": {},
     "output_type": "display_data"
    }
   ],
   "source": [
    "train = pd.read_csv(\"../data/train.csv\")\n",
    "test = pd.read_csv(\"../data/test.csv\")\n",
    "\n",
    "display(train)"
   ]
  },
  {
   "cell_type": "markdown",
   "metadata": {},
   "source": [
    "#### Notemos que las variables numéricas están a partir de la columna 7 \"antiguedad\". El precio está en la última columna, la 23."
   ]
  },
  {
   "cell_type": "markdown",
   "metadata": {},
   "source": [
    "## Caso 1 - Metros Cubiertos vs. Precio"
   ]
  },
  {
   "cell_type": "markdown",
   "metadata": {},
   "source": [
    "#### Consideremos como caso ajustar el precio en función del tamaño de la casa en metros para 100 casas del conjunto de datos."
   ]
  },
  {
   "cell_type": "code",
   "execution_count": 4,
   "metadata": {},
   "outputs": [
    {
     "data": {
      "text/html": [
       "<div>\n",
       "<style scoped>\n",
       "    .dataframe tbody tr th:only-of-type {\n",
       "        vertical-align: middle;\n",
       "    }\n",
       "\n",
       "    .dataframe tbody tr th {\n",
       "        vertical-align: top;\n",
       "    }\n",
       "\n",
       "    .dataframe thead th {\n",
       "        text-align: right;\n",
       "    }\n",
       "</style>\n",
       "<table border=\"1\" class=\"dataframe\">\n",
       "  <thead>\n",
       "    <tr style=\"text-align: right;\">\n",
       "      <th></th>\n",
       "      <th>id</th>\n",
       "      <th>metroscubiertos</th>\n",
       "      <th>precio</th>\n",
       "    </tr>\n",
       "  </thead>\n",
       "  <tbody>\n",
       "    <tr>\n",
       "      <th>137598</th>\n",
       "      <td>66523</td>\n",
       "      <td>187.0</td>\n",
       "      <td>2322600.0</td>\n",
       "    </tr>\n",
       "    <tr>\n",
       "      <th>169058</th>\n",
       "      <td>38430</td>\n",
       "      <td>284.0</td>\n",
       "      <td>6600000.0</td>\n",
       "    </tr>\n",
       "    <tr>\n",
       "      <th>205027</th>\n",
       "      <td>153198</td>\n",
       "      <td>110.0</td>\n",
       "      <td>3280000.0</td>\n",
       "    </tr>\n",
       "    <tr>\n",
       "      <th>228239</th>\n",
       "      <td>256480</td>\n",
       "      <td>250.0</td>\n",
       "      <td>1350000.0</td>\n",
       "    </tr>\n",
       "    <tr>\n",
       "      <th>44410</th>\n",
       "      <td>266461</td>\n",
       "      <td>325.0</td>\n",
       "      <td>5490000.0</td>\n",
       "    </tr>\n",
       "    <tr>\n",
       "      <th>...</th>\n",
       "      <td>...</td>\n",
       "      <td>...</td>\n",
       "      <td>...</td>\n",
       "    </tr>\n",
       "    <tr>\n",
       "      <th>119007</th>\n",
       "      <td>113480</td>\n",
       "      <td>140.0</td>\n",
       "      <td>1650000.0</td>\n",
       "    </tr>\n",
       "    <tr>\n",
       "      <th>72582</th>\n",
       "      <td>222816</td>\n",
       "      <td>195.0</td>\n",
       "      <td>2650000.0</td>\n",
       "    </tr>\n",
       "    <tr>\n",
       "      <th>217723</th>\n",
       "      <td>57203</td>\n",
       "      <td>300.0</td>\n",
       "      <td>1600000.0</td>\n",
       "    </tr>\n",
       "    <tr>\n",
       "      <th>108758</th>\n",
       "      <td>25536</td>\n",
       "      <td>280.0</td>\n",
       "      <td>3150000.0</td>\n",
       "    </tr>\n",
       "    <tr>\n",
       "      <th>12250</th>\n",
       "      <td>214933</td>\n",
       "      <td>242.0</td>\n",
       "      <td>2400000.0</td>\n",
       "    </tr>\n",
       "  </tbody>\n",
       "</table>\n",
       "<p>100 rows × 3 columns</p>\n",
       "</div>"
      ],
      "text/plain": [
       "            id  metroscubiertos     precio\n",
       "137598   66523            187.0  2322600.0\n",
       "169058   38430            284.0  6600000.0\n",
       "205027  153198            110.0  3280000.0\n",
       "228239  256480            250.0  1350000.0\n",
       "44410   266461            325.0  5490000.0\n",
       "...        ...              ...        ...\n",
       "119007  113480            140.0  1650000.0\n",
       "72582   222816            195.0  2650000.0\n",
       "217723   57203            300.0  1600000.0\n",
       "108758   25536            280.0  3150000.0\n",
       "12250   214933            242.0  2400000.0\n",
       "\n",
       "[100 rows x 3 columns]"
      ]
     },
     "metadata": {},
     "output_type": "display_data"
    }
   ],
   "source": [
    "# Tomo una muestra de 100 viviendas del conjunto que tengan todos los campos completos (No queremos ningún \"NaN\" en los datos).\n",
    "train_100 = train.dropna().sample(100)\n",
    "\n",
    "x_data = train_100[\"metroscubiertos\"].values\n",
    "y_data = train_100[\"precio\"].values\n",
    "\n",
    "display(train_100[[\"id\", \"metroscubiertos\", \"precio\"]])"
   ]
  },
  {
   "cell_type": "code",
   "execution_count": 5,
   "metadata": {},
   "outputs": [
    {
     "data": {
      "text/plain": [
       "count    100.000000\n",
       "mean     163.870000\n",
       "std       91.615209\n",
       "min       37.000000\n",
       "25%       80.250000\n",
       "50%      142.000000\n",
       "75%      216.500000\n",
       "max      400.000000\n",
       "Name: metroscubiertos, dtype: float64"
      ]
     },
     "metadata": {},
     "output_type": "display_data"
    },
    {
     "data": {
      "text/plain": [
       "<matplotlib.axes._subplots.AxesSubplot at 0x7f219b9b7d60>"
      ]
     },
     "execution_count": 5,
     "metadata": {},
     "output_type": "execute_result"
    },
    {
     "data": {
      "image/png": "[encoded data removed]",
      "text/plain": [
       "<Figure size 432x288 with 1 Axes>"
      ]
     },
     "metadata": {
      "needs_background": "light"
     },
     "output_type": "display_data"
    }
   ],
   "source": [
    "# Veamos un poco de info sobre los metros cubiertos de las viviendas elegidas.\n",
    "display(train_100[\"metroscubiertos\"].describe())\n",
    "train_100[\"metroscubiertos\"].hist()"
   ]
  },
  {
   "cell_type": "code",
   "execution_count": 6,
   "metadata": {},
   "outputs": [
    {
     "data": {
      "text/plain": [
       "count    1.000000e+02\n",
       "mean     2.161171e+06\n",
       "std      1.642842e+06\n",
       "min      3.200000e+05\n",
       "25%      1.057500e+06\n",
       "50%      1.760000e+06\n",
       "75%      2.920000e+06\n",
       "max      9.000000e+06\n",
       "Name: precio, dtype: float64"
      ]
     },
     "metadata": {},
     "output_type": "display_data"
    },
    {
     "data": {
      "text/plain": [
       "<matplotlib.axes._subplots.AxesSubplot at 0x7f219b8e5910>"
      ]
     },
     "execution_count": 6,
     "metadata": {},
     "output_type": "execute_result"
    },
    {
     "data": {
      "image/png": "[encoded data removed]",
      "text/plain": [
       "<Figure size 432x288 with 1 Axes>"
      ]
     },
     "metadata": {
      "needs_background": "light"
     },
     "output_type": "display_data"
    }
   ],
   "source": [
    "# Veamos un poco de info sobre los precios de las viviendas elegidas.\n",
    "display(train_100[\"precio\"].describe())\n",
    "train_100[\"precio\"].hist()"
   ]
  },
  {
   "cell_type": "code",
   "execution_count": 7,
   "metadata": {},
   "outputs": [],
   "source": [
    "# Ajustamos.\n",
    "ajuste = metnum.LinearRegression()\n",
    "ajuste.fit(x_data, y_data)"
   ]
  },
  {
   "cell_type": "markdown",
   "metadata": {},
   "source": [
    "#### Ya hecho el ajuste hagamos un gráfico de los datos y del ajuste hallado para comprobar que el algoritmo funcionó correctamente."
   ]
  },
  {
   "cell_type": "code",
   "execution_count": 8,
   "metadata": {},
   "outputs": [
    {
     "data": {
      "image/png": "[encoded data removed]",
      "text/plain": [
       "<Figure size 432x288 with 1 Axes>"
      ]
     },
     "metadata": {
      "needs_background": "light"
     },
     "output_type": "display_data"
    }
   ],
   "source": [
    "x_graph = np.linspace(np.min(x_data), np.max(x_data), 1000)\n",
    "y_graph = ajuste.predict(x_graph)\n",
    "\n",
    "y_graph = y_graph.reshape(y_graph.shape[0])\n",
    "\n",
    "plt.figure(1)\n",
    "plt.title(\"Precio en Función de Metros Cubiertos\")\n",
    "plt.plot(x_data, y_data, \"o\", label=\"Datos\")\n",
    "plt.plot(x_graph, y_graph, \"-\", label=\"Ajuste\")\n",
    "plt.grid()\n",
    "plt.legend()\n",
    "plt.xlabel(r\"Metros cubiertos [$\\mathrm{m}^2$]\")\n",
    "plt.ylabel(\"Precio [MXN$]\")\n",
    "plt.show()"
   ]
  },
  {
   "cell_type": "markdown",
   "metadata": {},
   "source": [
    "#### Notemos que el ajuste parece ser razonable pero claramente se ve afectado por outliers y no determina muy bien el verdadero precio de las viviendas. Veamos el RMSE y el RMSLE del ajuste."
   ]
  },
  {
   "cell_type": "code",
   "execution_count": 9,
   "metadata": {},
   "outputs": [],
   "source": [
    "def RMSE(data, prediction):\n",
    "    assert len(data) == len(prediction)\n",
    "    \n",
    "    N = len(data)\n",
    "    sum = 0\n",
    "    for i in range(N):\n",
    "        sum = sum + (data[i] - prediction[i]) ** 2\n",
    "    \n",
    "    return np.sqrt(sum / N)\n",
    "\n",
    "\n",
    "def RMSLE(data, prediction):\n",
    "    assert len(data) == len(prediction)\n",
    "    \n",
    "    N = len(data)\n",
    "    sum = 0\n",
    "    for i in range(N):\n",
    "        sum = sum + (np.log(data[i] + 1) - np.log(prediction[i] + 1)) ** 2\n",
    "    \n",
    "    return np.sqrt(sum / N)"
   ]
  },
  {
   "cell_type": "code",
   "execution_count": 10,
   "metadata": {},
   "outputs": [
    {
     "name": "stdout",
     "output_type": "stream",
     "text": [
      "RMSE = 1365475.4877756343\n",
      "RMSLE = 0.6273102206826854\n"
     ]
    }
   ],
   "source": [
    "y_prediction = ajuste.predict(x_data)\n",
    "y_prediction = y_prediction.reshape(y_prediction.shape[0])\n",
    "\n",
    "rmse = RMSE(y_data, y_prediction)\n",
    "rmsle = RMSLE(y_data, y_prediction)\n",
    "\n",
    "print(\"RMSE =\", rmse)\n",
    "print(\"RMSLE =\", rmsle)"
   ]
  },
  {
   "cell_type": "markdown",
   "metadata": {},
   "source": [
    "#### Notemos que el RMSE es muchísimo mayor que el RMSLE. Esto es razonable, ya que el RMSE es del orden del precio de las viviendas (de los millones de pesos) debido a los outliers. Sin embargo, el RMSLE no se ve tan afectado por outliers ya que es esencialmente el logaritmo del error relativo del ajuste; no del error absoluto."
   ]
  },
  {
   "cell_type": "markdown",
   "metadata": {},
   "source": [
    "## Caso 2 - Latitud y Longitud vs. Precio"
   ]
  },
  {
   "cell_type": "markdown",
   "metadata": {},
   "source": [
    "#### Veamos ahora cómo el precio varía dependiendo de la ubicación de la vivienda. Para eso vamos a usar la latitud y longitud y vamos a ajustar el precio a esas variables."
   ]
  },
  {
   "cell_type": "code",
   "execution_count": 11,
   "metadata": {},
   "outputs": [
    {
     "data": {
      "text/html": [
       "<div>\n",
       "<style scoped>\n",
       "    .dataframe tbody tr th:only-of-type {\n",
       "        vertical-align: middle;\n",
       "    }\n",
       "\n",
       "    .dataframe tbody tr th {\n",
       "        vertical-align: top;\n",
       "    }\n",
       "\n",
       "    .dataframe thead th {\n",
       "        text-align: right;\n",
       "    }\n",
       "</style>\n",
       "<table border=\"1\" class=\"dataframe\">\n",
       "  <thead>\n",
       "    <tr style=\"text-align: right;\">\n",
       "      <th></th>\n",
       "      <th>id</th>\n",
       "      <th>lng</th>\n",
       "      <th>lat</th>\n",
       "      <th>precio</th>\n",
       "    </tr>\n",
       "  </thead>\n",
       "  <tbody>\n",
       "    <tr>\n",
       "      <th>200798</th>\n",
       "      <td>228260</td>\n",
       "      <td>-98.285556</td>\n",
       "      <td>18.981585</td>\n",
       "      <td>2320000.0</td>\n",
       "    </tr>\n",
       "    <tr>\n",
       "      <th>220758</th>\n",
       "      <td>267456</td>\n",
       "      <td>-99.174928</td>\n",
       "      <td>19.362644</td>\n",
       "      <td>4195000.0</td>\n",
       "    </tr>\n",
       "    <tr>\n",
       "      <th>84876</th>\n",
       "      <td>41117</td>\n",
       "      <td>-101.052533</td>\n",
       "      <td>22.160978</td>\n",
       "      <td>1550000.0</td>\n",
       "    </tr>\n",
       "    <tr>\n",
       "      <th>199046</th>\n",
       "      <td>62538</td>\n",
       "      <td>-99.244690</td>\n",
       "      <td>19.569223</td>\n",
       "      <td>2000000.0</td>\n",
       "    </tr>\n",
       "    <tr>\n",
       "      <th>58916</th>\n",
       "      <td>59684</td>\n",
       "      <td>-98.352682</td>\n",
       "      <td>19.113104</td>\n",
       "      <td>1190000.0</td>\n",
       "    </tr>\n",
       "    <tr>\n",
       "      <th>...</th>\n",
       "      <td>...</td>\n",
       "      <td>...</td>\n",
       "      <td>...</td>\n",
       "      <td>...</td>\n",
       "    </tr>\n",
       "    <tr>\n",
       "      <th>164978</th>\n",
       "      <td>262627</td>\n",
       "      <td>-99.203004</td>\n",
       "      <td>18.799797</td>\n",
       "      <td>1400000.0</td>\n",
       "    </tr>\n",
       "    <tr>\n",
       "      <th>18277</th>\n",
       "      <td>287722</td>\n",
       "      <td>-101.721489</td>\n",
       "      <td>21.156781</td>\n",
       "      <td>1700000.0</td>\n",
       "    </tr>\n",
       "    <tr>\n",
       "      <th>230810</th>\n",
       "      <td>168217</td>\n",
       "      <td>-99.081923</td>\n",
       "      <td>19.614459</td>\n",
       "      <td>2500000.0</td>\n",
       "    </tr>\n",
       "    <tr>\n",
       "      <th>60594</th>\n",
       "      <td>93244</td>\n",
       "      <td>-103.427256</td>\n",
       "      <td>20.609078</td>\n",
       "      <td>1200000.0</td>\n",
       "    </tr>\n",
       "    <tr>\n",
       "      <th>154960</th>\n",
       "      <td>238205</td>\n",
       "      <td>-99.147692</td>\n",
       "      <td>19.318168</td>\n",
       "      <td>1280000.0</td>\n",
       "    </tr>\n",
       "  </tbody>\n",
       "</table>\n",
       "<p>500 rows × 4 columns</p>\n",
       "</div>"
      ],
      "text/plain": [
       "            id         lng        lat     precio\n",
       "200798  228260  -98.285556  18.981585  2320000.0\n",
       "220758  267456  -99.174928  19.362644  4195000.0\n",
       "84876    41117 -101.052533  22.160978  1550000.0\n",
       "199046   62538  -99.244690  19.569223  2000000.0\n",
       "58916    59684  -98.352682  19.113104  1190000.0\n",
       "...        ...         ...        ...        ...\n",
       "164978  262627  -99.203004  18.799797  1400000.0\n",
       "18277   287722 -101.721489  21.156781  1700000.0\n",
       "230810  168217  -99.081923  19.614459  2500000.0\n",
       "60594    93244 -103.427256  20.609078  1200000.0\n",
       "154960  238205  -99.147692  19.318168  1280000.0\n",
       "\n",
       "[500 rows x 4 columns]"
      ]
     },
     "metadata": {},
     "output_type": "display_data"
    }
   ],
   "source": [
    "# Tomo una muestra de 500 viviendas del conjunto que tengan todos los campos completos (No queremos ningún \"NaN\" en los datos).\n",
    "# Elijo un seed ya que la imagen de fondo en el grafico esta elegida para cierto rango de latitudes y longitudes.\n",
    "# El numero 6 lo saque de tirar un dado, te lo juro ;)\n",
    "seed = np.random.seed(6)\n",
    "train_500 = train.dropna().sample(500, random_state=seed)\n",
    "\n",
    "x_data = train_500[[\"lng\", \"lat\"]].values\n",
    "y_data = train_500[\"precio\"].values\n",
    "\n",
    "display(train_500[[\"id\", \"lng\", \"lat\", \"precio\"]])"
   ]
  },
  {
   "cell_type": "code",
   "execution_count": 12,
   "metadata": {},
   "outputs": [
    {
     "name": "stdout",
     "output_type": "stream",
     "text": [
      "Rango de Longitud: (-117.05260661090084, -86.82080286794434)\n",
      "Rango de Latitud: (16.734008226454566, 32.5864807)\n"
     ]
    }
   ],
   "source": [
    "print(\"Rango de Longitud:\", (np.min(x_data[:, 0]), np.max(x_data[:, 0])))\n",
    "print(\"Rango de Latitud:\", (np.min(x_data[:, 1]), np.max(x_data[:, 1])))"
   ]
  },
  {
   "cell_type": "code",
   "execution_count": 13,
   "metadata": {},
   "outputs": [],
   "source": [
    "ajuste = metnum.LinearRegression()\n",
    "ajuste.fit(x_data, y_data)"
   ]
  },
  {
   "cell_type": "code",
   "execution_count": 14,
   "metadata": {},
   "outputs": [],
   "source": [
    "'''\n",
    "\n",
    "Creamos una cuadrilla de 1000x1000 valores de latitud y longitud entre el mínimo y el máximo.\n",
    "\n",
    "Por ejemplo, supongamos que lng = [0, 1, 2] y lat = [0, 1, 2]. Entonces:\n",
    "\n",
    "LNG = [\n",
    "    [0, 1, 2],\n",
    "    [0, 1, 2],\n",
    "    [0, 1, 2]\n",
    "]\n",
    "\n",
    "LAT = [\n",
    "    [0, 0, 0],\n",
    "    [1, 1, 1],\n",
    "    [2, 2, 2]\n",
    "]\n",
    "\n",
    "Lo que queremos entonces es usar el ajuste para obtener otra cuadrilla:\n",
    "\n",
    "y = [\n",
    "    [f(0, 0), f(1, 0), f(2, 0)],\n",
    "    [f(0, 1), f(1, 1), f(2, 1)],\n",
    "    [f(0, 2), f(1, 2), f(2, 2)]\n",
    "]\n",
    "\n",
    "donde f(lng, lat) es la función que ajustamos.\n",
    "\n",
    "'''\n",
    "\n",
    "lng_graph = np.linspace(np.min(x_data[:, 0]), np.max(x_data[:, 0]), 1000)\n",
    "lat_graph = np.linspace(np.min(x_data[:, 1]), np.max(x_data[:, 1]), 1000)\n",
    "LNG_graph, LAT_graph = np.meshgrid(lng_graph, lat_graph)\n",
    "\n",
    "y_graph = []\n",
    "for i in range(LNG_graph.shape[0]):\n",
    "    lng_lat_row = np.column_stack([LNG_graph[i], LAT_graph[i]])\n",
    "    y_row = ajuste.predict(lng_lat_row)\n",
    "    y_row = y_row.reshape(y_row.shape[0])\n",
    "    y_graph.append(y_row)\n",
    "y_graph = np.asarray(y_graph)"
   ]
  },
  {
   "cell_type": "code",
   "execution_count": 17,
   "metadata": {},
   "outputs": [
    {
     "data": {
      "image/png": "[encoded data removed]",
      "text/plain": [
       "<Figure size 690x425 with 2 Axes>"
      ]
     },
     "metadata": {
      "needs_background": "light"
     },
     "output_type": "display_data"
    }
   ],
   "source": [
    "from matplotlib.colors import Normalize\n",
    "\n",
    "mi = np.min(y_graph)\n",
    "ma = np.max(y_graph)\n",
    "norm = Normalize(vmin=mi,vmax=ma)\n",
    "\n",
    "# El mapa lo saqué de openstreetmap.com.\n",
    "mexico = plt.imread(\"mapa_mexico.png\")\n",
    "BBox = (np.min(x_data[:, 0]), np.max(x_data[:, 0]), np.min(x_data[:, 1]), np.max(x_data[:, 1]))\n",
    "\n",
    "plt.figure(2, figsize=(690 / 80, 425 / 80), dpi=80)\n",
    "plt.title(\"Precio de Viviendas por Ubicación\")\n",
    "plt.imshow(mexico, extent=BBox, aspect='equal', alpha=1)\n",
    "plt.contourf(LNG_graph, LAT_graph, y_graph, 200, alpha=0.2, norm=norm, cmap=\"jet\")\n",
    "plt.scatter(x_data[:, 0], x_data[:, 1], c=y_data, s=50, norm=norm, cmap=\"jet\", edgecolor=\"k\")\n",
    "plt.colorbar().set_label(\"Precio [MXN$]\")\n",
    "plt.xlabel(\"Longitud [°]\")\n",
    "plt.ylabel(\"Latitud [°]\")\n",
    "plt.show()"
   ]
  },
  {
   "cell_type": "markdown",
   "metadata": {},
   "source": [
    "#### Notemos que la linealidad del ajuste se refleja en la linealidad del gradiente de colores de fondo que representa la predicción para cada punto del mapa. Según este ajuste las viviendas más caras se encuentran en la costa sur del atlántico. Esta costa es la del caribe, por lo tanto el resultado es razonable. Sin embargo, al ser un ajuste lineal no hay mucha más información que podamos sacar al respecto ya que no puede dividir por zonas."
   ]
  },
  {
   "cell_type": "markdown",
   "metadata": {},
   "source": [
    "#### Veamos los errores."
   ]
  },
  {
   "cell_type": "code",
   "execution_count": 18,
   "metadata": {},
   "outputs": [
    {
     "name": "stdout",
     "output_type": "stream",
     "text": [
      "RMSE = 1856652.4566782059\n",
      "RMSLE = 0.8516641969707008\n"
     ]
    }
   ],
   "source": [
    "y_prediction = ajuste.predict(x_data)\n",
    "y_prediction = y_prediction.reshape(y_prediction.shape[0])\n",
    "\n",
    "rmse = RMSE(y_data, y_prediction)\n",
    "rmsle = RMSLE(y_data, y_prediction)\n",
    "\n",
    "print(\"RMSE =\", rmse)\n",
    "print(\"RMSLE =\", rmsle)"
   ]
  },
  {
   "cell_type": "code",
   "execution_count": null,
   "metadata": {},
   "outputs": [],
   "source": []
  }
 ],
 "metadata": {
  "kernelspec": {
   "display_name": "Python 3",
   "language": "python",
   "name": "python3"
  },
  "language_info": {
   "codemirror_mode": {
    "name": "ipython",
    "version": 3
   },
   "file_extension": ".py",
   "mimetype": "text/x-python",
   "name": "python",
   "nbconvert_exporter": "python",
   "pygments_lexer": "ipython3",
   "version": "3.8.3"
  }
 },
 "nbformat": 4,
 "nbformat_minor": 4
}
