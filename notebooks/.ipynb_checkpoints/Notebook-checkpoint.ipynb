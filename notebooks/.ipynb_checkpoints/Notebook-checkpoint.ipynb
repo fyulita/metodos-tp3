{
 "cells": [
  {
   "cell_type": "markdown",
   "metadata": {},
   "source": [
    "# Experimentación"
   ]
  },
  {
   "cell_type": "markdown",
   "metadata": {},
   "source": [
    "## Compilado y Preparación"
   ]
  },
  {
   "cell_type": "markdown",
   "metadata": {},
   "source": [
    "#### Compilamos el código de C++."
   ]
  },
  {
   "cell_type": "code",
   "execution_count": 1,
   "metadata": {},
   "outputs": [
    {
     "name": "stdout",
     "output_type": "stream",
     "text": [
      "mkdir: cannot create directory ‘build’: File exists\n",
      "-- The C compiler identification is GNU 10.1.0\n",
      "-- The CXX compiler identification is GNU 10.1.0\n",
      "-- Check for working C compiler: /usr/bin/cc\n",
      "-- Check for working C compiler: /usr/bin/cc - works\n",
      "-- Detecting C compiler ABI info\n",
      "-- Detecting C compiler ABI info - done\n",
      "-- Detecting C compile features\n",
      "-- Detecting C compile features - done\n",
      "-- Check for working CXX compiler: /usr/bin/c++\n",
      "-- Check for working CXX compiler: /usr/bin/c++ - works\n",
      "-- Detecting CXX compiler ABI info\n",
      "-- Detecting CXX compiler ABI info - done\n",
      "-- Detecting CXX compile features\n",
      "-- Detecting CXX compile features - done\n",
      "Release mode\n",
      "-- Found PythonInterp: /home/fyulita/.virtualenvs/scienv/bin/python (found version \"3.8.3\") \n",
      "-- Found PythonLibs: /usr/lib/libpython3.8.so\n",
      "-- pybind11 v2.2.4\n",
      "-- Performing Test HAS_FLTO\n",
      "-- Performing Test HAS_FLTO - Success\n",
      "-- LTO enabled\n",
      "CMAKE_INSTALL_PREFIX=/home/fyulita/Documents/UBA/2020-1C/Metodos Numericos/Material/Laboratorio/tp03\n",
      "-- Configuring done\n",
      "-- Generating done\n",
      "-- Build files have been written to: /home/fyulita/Documents/UBA/2020-1C/Metodos Numericos/Material/Laboratorio/tp03/build\n",
      "\u001b[35m\u001b[1mScanning dependencies of target tp3\u001b[0m\n",
      "[ 16%] \u001b[32mBuilding CXX object CMakeFiles/tp3.dir/src/main.cpp.o\u001b[0m\n",
      "[ 33%] \u001b[32mBuilding CXX object CMakeFiles/tp3.dir/src/linear_regression.cpp.o\u001b[0m\n",
      "[ 50%] \u001b[32m\u001b[1mLinking CXX executable tp3\u001b[0m\n",
      "[ 50%] Built target tp3\n",
      "\u001b[35m\u001b[1mScanning dependencies of target metnum\u001b[0m\n",
      "[ 66%] \u001b[32mBuilding CXX object CMakeFiles/metnum.dir/src/metnum.cpp.o\u001b[0m\n",
      "[ 83%] \u001b[32mBuilding CXX object CMakeFiles/metnum.dir/src/linear_regression.cpp.o\u001b[0m\n",
      "[100%] \u001b[32m\u001b[1mLinking CXX shared module metnum.cpython-38-x86_64-linux-gnu.so\u001b[0m\n",
      "[100%] Built target metnum\n",
      "\u001b[36mInstall the project...\u001b[0m\n",
      "-- Install configuration: \"Release\"\n",
      "-- Installing: /home/fyulita/Documents/UBA/2020-1C/Metodos Numericos/Material/Laboratorio/tp03/notebooks/metnum.cpython-38-x86_64-linux-gnu.so\n"
     ]
    }
   ],
   "source": [
    "!cd .. && mkdir build\n",
    "!cd ../build/ && rm -rf *\n",
    "!cd ../build && cmake \\\n",
    "  -DPYTHON_EXECUTABLE=\"$(which python)\" \\\n",
    "  -DCMAKE_BUILD_TYPE=Release ..\n",
    "!cd ../build && make install"
   ]
  },
  {
   "cell_type": "markdown",
   "metadata": {},
   "source": [
    "#### Importamos las librerías necesarias."
   ]
  },
  {
   "cell_type": "code",
   "execution_count": 2,
   "metadata": {},
   "outputs": [
    {
     "name": "stdout",
     "output_type": "stream",
     "text": [
      "/home/fyulita/Documents/UBA/2020-1C/Metodos Numericos/Material/Laboratorio/tp03/notebooks\n",
      "Python 3.8.3\n"
     ]
    }
   ],
   "source": [
    "import metnum\n",
    "import numpy as np\n",
    "import matplotlib.pyplot as plt\n",
    "import pandas as pd\n",
    "\n",
    "!pwd\n",
    "!python --version"
   ]
  },
  {
   "cell_type": "markdown",
   "metadata": {},
   "source": [
    "#### Importamos los datos de entrenamiento y test."
   ]
  },
  {
   "cell_type": "code",
   "execution_count": 3,
   "metadata": {},
   "outputs": [
    {
     "data": {
      "text/html": [
       "<div>\n",
       "<style scoped>\n",
       "    .dataframe tbody tr th:only-of-type {\n",
       "        vertical-align: middle;\n",
       "    }\n",
       "\n",
       "    .dataframe tbody tr th {\n",
       "        vertical-align: top;\n",
       "    }\n",
       "\n",
       "    .dataframe thead th {\n",
       "        text-align: right;\n",
       "    }\n",
       "</style>\n",
       "<table border=\"1\" class=\"dataframe\">\n",
       "  <thead>\n",
       "    <tr style=\"text-align: right;\">\n",
       "      <th></th>\n",
       "      <th>id</th>\n",
       "      <th>titulo</th>\n",
       "      <th>descripcion</th>\n",
       "      <th>tipodepropiedad</th>\n",
       "      <th>direccion</th>\n",
       "      <th>ciudad</th>\n",
       "      <th>provincia</th>\n",
       "      <th>antiguedad</th>\n",
       "      <th>habitaciones</th>\n",
       "      <th>garages</th>\n",
       "      <th>...</th>\n",
       "      <th>idzona</th>\n",
       "      <th>lat</th>\n",
       "      <th>lng</th>\n",
       "      <th>fecha</th>\n",
       "      <th>gimnasio</th>\n",
       "      <th>usosmultiples</th>\n",
       "      <th>piscina</th>\n",
       "      <th>escuelascercanas</th>\n",
       "      <th>centroscomercialescercanos</th>\n",
       "      <th>precio</th>\n",
       "    </tr>\n",
       "  </thead>\n",
       "  <tbody>\n",
       "    <tr>\n",
       "      <th>0</th>\n",
       "      <td>254099</td>\n",
       "      <td>depto. tipo a-402</td>\n",
       "      <td>depto. interior de 80.15m2, consta de sala com...</td>\n",
       "      <td>Apartamento</td>\n",
       "      <td>Avenida Division del Norte 2005</td>\n",
       "      <td>Benito Juárez</td>\n",
       "      <td>Distrito Federal</td>\n",
       "      <td>NaN</td>\n",
       "      <td>2.0</td>\n",
       "      <td>1.0</td>\n",
       "      <td>...</td>\n",
       "      <td>23533.0</td>\n",
       "      <td>NaN</td>\n",
       "      <td>NaN</td>\n",
       "      <td>2015-08-23 00:00:00</td>\n",
       "      <td>0.0</td>\n",
       "      <td>0.0</td>\n",
       "      <td>0.0</td>\n",
       "      <td>0.0</td>\n",
       "      <td>0.0</td>\n",
       "      <td>2273000.0</td>\n",
       "    </tr>\n",
       "    <tr>\n",
       "      <th>1</th>\n",
       "      <td>53461</td>\n",
       "      <td>condominio horizontal en venta</td>\n",
       "      <td>&lt;p&gt;entre sonora y guerrero, atr&amp;aacute;s del h...</td>\n",
       "      <td>Casa en condominio</td>\n",
       "      <td>AV. MEXICO</td>\n",
       "      <td>La Magdalena Contreras</td>\n",
       "      <td>Distrito Federal</td>\n",
       "      <td>10.0</td>\n",
       "      <td>3.0</td>\n",
       "      <td>2.0</td>\n",
       "      <td>...</td>\n",
       "      <td>24514.0</td>\n",
       "      <td>19.310205</td>\n",
       "      <td>-99.227655</td>\n",
       "      <td>2013-06-28 00:00:00</td>\n",
       "      <td>0.0</td>\n",
       "      <td>0.0</td>\n",
       "      <td>0.0</td>\n",
       "      <td>1.0</td>\n",
       "      <td>1.0</td>\n",
       "      <td>3600000.0</td>\n",
       "    </tr>\n",
       "    <tr>\n",
       "      <th>2</th>\n",
       "      <td>247984</td>\n",
       "      <td>casa en venta urbi 3 recamaras tonala</td>\n",
       "      <td>descripcion \\nla mejor ubicacion residencial e...</td>\n",
       "      <td>Casa</td>\n",
       "      <td>Urbi Tonala</td>\n",
       "      <td>Tonalá</td>\n",
       "      <td>Jalisco</td>\n",
       "      <td>5.0</td>\n",
       "      <td>3.0</td>\n",
       "      <td>2.0</td>\n",
       "      <td>...</td>\n",
       "      <td>48551.0</td>\n",
       "      <td>NaN</td>\n",
       "      <td>NaN</td>\n",
       "      <td>2015-10-17 00:00:00</td>\n",
       "      <td>0.0</td>\n",
       "      <td>0.0</td>\n",
       "      <td>0.0</td>\n",
       "      <td>0.0</td>\n",
       "      <td>0.0</td>\n",
       "      <td>1200000.0</td>\n",
       "    </tr>\n",
       "    <tr>\n",
       "      <th>3</th>\n",
       "      <td>209067</td>\n",
       "      <td>casa sola en toluca zinacantepec con credito i...</td>\n",
       "      <td>casa en privada con caseta de vigilancia casas...</td>\n",
       "      <td>Casa</td>\n",
       "      <td>IGNACIO MANUEL ALTAMIRANO 128</td>\n",
       "      <td>Zinacantepec</td>\n",
       "      <td>Edo. de México</td>\n",
       "      <td>1.0</td>\n",
       "      <td>2.0</td>\n",
       "      <td>1.0</td>\n",
       "      <td>...</td>\n",
       "      <td>53666.0</td>\n",
       "      <td>19.301890</td>\n",
       "      <td>-99.688015</td>\n",
       "      <td>2012-03-09 00:00:00</td>\n",
       "      <td>0.0</td>\n",
       "      <td>0.0</td>\n",
       "      <td>0.0</td>\n",
       "      <td>1.0</td>\n",
       "      <td>1.0</td>\n",
       "      <td>650000.0</td>\n",
       "    </tr>\n",
       "    <tr>\n",
       "      <th>4</th>\n",
       "      <td>185997</td>\n",
       "      <td>paseos del sol</td>\n",
       "      <td>bonito departamento en excelentes condiciones ...</td>\n",
       "      <td>Apartamento</td>\n",
       "      <td>PASEOS DEL SOL</td>\n",
       "      <td>Zapopan</td>\n",
       "      <td>Jalisco</td>\n",
       "      <td>10.0</td>\n",
       "      <td>2.0</td>\n",
       "      <td>1.0</td>\n",
       "      <td>...</td>\n",
       "      <td>47835.0</td>\n",
       "      <td>NaN</td>\n",
       "      <td>NaN</td>\n",
       "      <td>2016-06-07 00:00:00</td>\n",
       "      <td>0.0</td>\n",
       "      <td>0.0</td>\n",
       "      <td>0.0</td>\n",
       "      <td>0.0</td>\n",
       "      <td>0.0</td>\n",
       "      <td>1150000.0</td>\n",
       "    </tr>\n",
       "    <tr>\n",
       "      <th>...</th>\n",
       "      <td>...</td>\n",
       "      <td>...</td>\n",
       "      <td>...</td>\n",
       "      <td>...</td>\n",
       "      <td>...</td>\n",
       "      <td>...</td>\n",
       "      <td>...</td>\n",
       "      <td>...</td>\n",
       "      <td>...</td>\n",
       "      <td>...</td>\n",
       "      <td>...</td>\n",
       "      <td>...</td>\n",
       "      <td>...</td>\n",
       "      <td>...</td>\n",
       "      <td>...</td>\n",
       "      <td>...</td>\n",
       "      <td>...</td>\n",
       "      <td>...</td>\n",
       "      <td>...</td>\n",
       "      <td>...</td>\n",
       "      <td>...</td>\n",
       "    </tr>\n",
       "    <tr>\n",
       "      <th>239995</th>\n",
       "      <td>119879</td>\n",
       "      <td>bonita casas de 2 recamaras a 10 minutos del c...</td>\n",
       "      <td>vendo casa en bosques de ica residencial a 10 ...</td>\n",
       "      <td>Casa</td>\n",
       "      <td>BOSQUES</td>\n",
       "      <td>Zinacantepec</td>\n",
       "      <td>Edo. de México</td>\n",
       "      <td>0.0</td>\n",
       "      <td>2.0</td>\n",
       "      <td>2.0</td>\n",
       "      <td>...</td>\n",
       "      <td>53666.0</td>\n",
       "      <td>NaN</td>\n",
       "      <td>NaN</td>\n",
       "      <td>2015-02-08 00:00:00</td>\n",
       "      <td>0.0</td>\n",
       "      <td>0.0</td>\n",
       "      <td>0.0</td>\n",
       "      <td>0.0</td>\n",
       "      <td>0.0</td>\n",
       "      <td>650000.0</td>\n",
       "    </tr>\n",
       "    <tr>\n",
       "      <th>239996</th>\n",
       "      <td>259178</td>\n",
       "      <td>casa en condominio a 10 min. del centro de toluca</td>\n",
       "      <td>casa con un jardin amplio, un cuarto de servic...</td>\n",
       "      <td>Casa</td>\n",
       "      <td>Filiberto Navas 325</td>\n",
       "      <td>Toluca</td>\n",
       "      <td>Edo. de México</td>\n",
       "      <td>0.0</td>\n",
       "      <td>3.0</td>\n",
       "      <td>3.0</td>\n",
       "      <td>...</td>\n",
       "      <td>51954.0</td>\n",
       "      <td>19.294665</td>\n",
       "      <td>-99.692916</td>\n",
       "      <td>2014-07-10 00:00:00</td>\n",
       "      <td>0.0</td>\n",
       "      <td>0.0</td>\n",
       "      <td>0.0</td>\n",
       "      <td>1.0</td>\n",
       "      <td>1.0</td>\n",
       "      <td>1940000.0</td>\n",
       "    </tr>\n",
       "    <tr>\n",
       "      <th>239997</th>\n",
       "      <td>131932</td>\n",
       "      <td>nicolas san juan</td>\n",
       "      <td>departamento con excelente ubicación, muy cerc...</td>\n",
       "      <td>Apartamento</td>\n",
       "      <td>Nicolas San Juan</td>\n",
       "      <td>Benito Juárez</td>\n",
       "      <td>Distrito Federal</td>\n",
       "      <td>20.0</td>\n",
       "      <td>2.0</td>\n",
       "      <td>1.0</td>\n",
       "      <td>...</td>\n",
       "      <td>50003995.0</td>\n",
       "      <td>NaN</td>\n",
       "      <td>NaN</td>\n",
       "      <td>2015-03-03 00:00:00</td>\n",
       "      <td>0.0</td>\n",
       "      <td>0.0</td>\n",
       "      <td>0.0</td>\n",
       "      <td>0.0</td>\n",
       "      <td>0.0</td>\n",
       "      <td>3400000.0</td>\n",
       "    </tr>\n",
       "    <tr>\n",
       "      <th>239998</th>\n",
       "      <td>146867</td>\n",
       "      <td>casa sola. javier rojo gomez.</td>\n",
       "      <td>casa sola, dividida en cuatro departamentos de...</td>\n",
       "      <td>Casa</td>\n",
       "      <td>Javier Rojo Gomez 120</td>\n",
       "      <td>Iztapalapa</td>\n",
       "      <td>Distrito Federal</td>\n",
       "      <td>20.0</td>\n",
       "      <td>4.0</td>\n",
       "      <td>0.0</td>\n",
       "      <td>...</td>\n",
       "      <td>24162.0</td>\n",
       "      <td>19.366651</td>\n",
       "      <td>-99.082246</td>\n",
       "      <td>2014-12-26 00:00:00</td>\n",
       "      <td>1.0</td>\n",
       "      <td>0.0</td>\n",
       "      <td>0.0</td>\n",
       "      <td>1.0</td>\n",
       "      <td>1.0</td>\n",
       "      <td>2890000.0</td>\n",
       "    </tr>\n",
       "    <tr>\n",
       "      <th>239999</th>\n",
       "      <td>121958</td>\n",
       "      <td>departamento en bosques de las lomas  / av. st...</td>\n",
       "      <td>id:19816, muy bonito e iluminado departamento,...</td>\n",
       "      <td>Apartamento</td>\n",
       "      <td>AVE. STIM</td>\n",
       "      <td>Cuajimalpa de Morelos</td>\n",
       "      <td>Distrito Federal</td>\n",
       "      <td>1.0</td>\n",
       "      <td>3.0</td>\n",
       "      <td>2.0</td>\n",
       "      <td>...</td>\n",
       "      <td>23750.0</td>\n",
       "      <td>NaN</td>\n",
       "      <td>NaN</td>\n",
       "      <td>2015-06-19 00:00:00</td>\n",
       "      <td>0.0</td>\n",
       "      <td>0.0</td>\n",
       "      <td>0.0</td>\n",
       "      <td>0.0</td>\n",
       "      <td>0.0</td>\n",
       "      <td>3650000.0</td>\n",
       "    </tr>\n",
       "  </tbody>\n",
       "</table>\n",
       "<p>240000 rows × 23 columns</p>\n",
       "</div>"
      ],
      "text/plain": [
       "            id                                             titulo  \\\n",
       "0       254099                                  depto. tipo a-402   \n",
       "1        53461                     condominio horizontal en venta   \n",
       "2       247984              casa en venta urbi 3 recamaras tonala   \n",
       "3       209067  casa sola en toluca zinacantepec con credito i...   \n",
       "4       185997                                     paseos del sol   \n",
       "...        ...                                                ...   \n",
       "239995  119879  bonita casas de 2 recamaras a 10 minutos del c...   \n",
       "239996  259178  casa en condominio a 10 min. del centro de toluca   \n",
       "239997  131932                                   nicolas san juan   \n",
       "239998  146867                      casa sola. javier rojo gomez.   \n",
       "239999  121958  departamento en bosques de las lomas  / av. st...   \n",
       "\n",
       "                                              descripcion     tipodepropiedad  \\\n",
       "0       depto. interior de 80.15m2, consta de sala com...         Apartamento   \n",
       "1       <p>entre sonora y guerrero, atr&aacute;s del h...  Casa en condominio   \n",
       "2       descripcion \\nla mejor ubicacion residencial e...                Casa   \n",
       "3       casa en privada con caseta de vigilancia casas...                Casa   \n",
       "4       bonito departamento en excelentes condiciones ...         Apartamento   \n",
       "...                                                   ...                 ...   \n",
       "239995  vendo casa en bosques de ica residencial a 10 ...                Casa   \n",
       "239996  casa con un jardin amplio, un cuarto de servic...                Casa   \n",
       "239997  departamento con excelente ubicación, muy cerc...         Apartamento   \n",
       "239998  casa sola, dividida en cuatro departamentos de...                Casa   \n",
       "239999  id:19816, muy bonito e iluminado departamento,...         Apartamento   \n",
       "\n",
       "                              direccion                  ciudad  \\\n",
       "0       Avenida Division del Norte 2005           Benito Juárez   \n",
       "1                            AV. MEXICO  La Magdalena Contreras   \n",
       "2                           Urbi Tonala                  Tonalá   \n",
       "3         IGNACIO MANUEL ALTAMIRANO 128            Zinacantepec   \n",
       "4                       PASEOS DEL SOL                  Zapopan   \n",
       "...                                 ...                     ...   \n",
       "239995                          BOSQUES            Zinacantepec   \n",
       "239996              Filiberto Navas 325                  Toluca   \n",
       "239997                 Nicolas San Juan           Benito Juárez   \n",
       "239998            Javier Rojo Gomez 120              Iztapalapa   \n",
       "239999                        AVE. STIM   Cuajimalpa de Morelos   \n",
       "\n",
       "               provincia  antiguedad  habitaciones  garages  ...      idzona  \\\n",
       "0       Distrito Federal         NaN           2.0      1.0  ...     23533.0   \n",
       "1       Distrito Federal        10.0           3.0      2.0  ...     24514.0   \n",
       "2                Jalisco         5.0           3.0      2.0  ...     48551.0   \n",
       "3         Edo. de México         1.0           2.0      1.0  ...     53666.0   \n",
       "4                Jalisco        10.0           2.0      1.0  ...     47835.0   \n",
       "...                  ...         ...           ...      ...  ...         ...   \n",
       "239995    Edo. de México         0.0           2.0      2.0  ...     53666.0   \n",
       "239996    Edo. de México         0.0           3.0      3.0  ...     51954.0   \n",
       "239997  Distrito Federal        20.0           2.0      1.0  ...  50003995.0   \n",
       "239998  Distrito Federal        20.0           4.0      0.0  ...     24162.0   \n",
       "239999  Distrito Federal         1.0           3.0      2.0  ...     23750.0   \n",
       "\n",
       "              lat        lng                fecha  gimnasio  usosmultiples  \\\n",
       "0             NaN        NaN  2015-08-23 00:00:00       0.0            0.0   \n",
       "1       19.310205 -99.227655  2013-06-28 00:00:00       0.0            0.0   \n",
       "2             NaN        NaN  2015-10-17 00:00:00       0.0            0.0   \n",
       "3       19.301890 -99.688015  2012-03-09 00:00:00       0.0            0.0   \n",
       "4             NaN        NaN  2016-06-07 00:00:00       0.0            0.0   \n",
       "...           ...        ...                  ...       ...            ...   \n",
       "239995        NaN        NaN  2015-02-08 00:00:00       0.0            0.0   \n",
       "239996  19.294665 -99.692916  2014-07-10 00:00:00       0.0            0.0   \n",
       "239997        NaN        NaN  2015-03-03 00:00:00       0.0            0.0   \n",
       "239998  19.366651 -99.082246  2014-12-26 00:00:00       1.0            0.0   \n",
       "239999        NaN        NaN  2015-06-19 00:00:00       0.0            0.0   \n",
       "\n",
       "       piscina  escuelascercanas  centroscomercialescercanos     precio  \n",
       "0          0.0               0.0                         0.0  2273000.0  \n",
       "1          0.0               1.0                         1.0  3600000.0  \n",
       "2          0.0               0.0                         0.0  1200000.0  \n",
       "3          0.0               1.0                         1.0   650000.0  \n",
       "4          0.0               0.0                         0.0  1150000.0  \n",
       "...        ...               ...                         ...        ...  \n",
       "239995     0.0               0.0                         0.0   650000.0  \n",
       "239996     0.0               1.0                         1.0  1940000.0  \n",
       "239997     0.0               0.0                         0.0  3400000.0  \n",
       "239998     0.0               1.0                         1.0  2890000.0  \n",
       "239999     0.0               0.0                         0.0  3650000.0  \n",
       "\n",
       "[240000 rows x 23 columns]"
      ]
     },
     "metadata": {},
     "output_type": "display_data"
    }
   ],
   "source": [
    "train = pd.read_csv(\"../data/train.csv\")\n",
    "test = pd.read_csv(\"../data/test.csv\")\n",
    "\n",
    "display(train)"
   ]
  },
  {
   "cell_type": "code",
   "execution_count": 4,
   "metadata": {},
   "outputs": [
    {
     "data": {
      "text/plain": [
       "['id',\n",
       " 'titulo',\n",
       " 'descripcion',\n",
       " 'tipodepropiedad',\n",
       " 'direccion',\n",
       " 'ciudad',\n",
       " 'provincia',\n",
       " 'antiguedad',\n",
       " 'habitaciones',\n",
       " 'garages',\n",
       " 'banos',\n",
       " 'metroscubiertos',\n",
       " 'metrostotales',\n",
       " 'idzona',\n",
       " 'lat',\n",
       " 'lng',\n",
       " 'fecha',\n",
       " 'gimnasio',\n",
       " 'usosmultiples',\n",
       " 'piscina',\n",
       " 'escuelascercanas',\n",
       " 'centroscomercialescercanos',\n",
       " 'precio']"
      ]
     },
     "execution_count": 4,
     "metadata": {},
     "output_type": "execute_result"
    }
   ],
   "source": [
    "list(train.columns)"
   ]
  },
  {
   "cell_type": "markdown",
   "metadata": {},
   "source": [
    "#### Vamos a usar K-Fold Cross Validation para evaluar tres distintas métricas en el ajuste: RMSE, RMSLE y \\\\( R^2 \\\\)."
   ]
  },
  {
   "cell_type": "code",
   "execution_count": 5,
   "metadata": {},
   "outputs": [],
   "source": [
    "from sklearn.model_selection import KFold\n",
    "from sklearn.metrics import mean_squared_error, mean_squared_log_error, r2_score\n",
    "\n",
    "def KFoldCrossValidation(K, X, y):\n",
    "    # Generamos los splits.\n",
    "    kfold = KFold(n_splits=K)\n",
    "    kfold.get_n_splits(X)\n",
    "    \n",
    "    rmse = []\n",
    "    rmsle = []\n",
    "    r2 = []\n",
    "    \n",
    "    for train_index, test_index in kfold.split(X):\n",
    "        # Dividimos el conjunto de datos.\n",
    "        X_train, X_test = X[train_index], X[test_index]\n",
    "        y_train, y_test = y[train_index], y[test_index]\n",
    "        \n",
    "        # Hacemos el ajuste y predecimos.\n",
    "        linearfit = metnum.LinearRegression()\n",
    "        linearfit.fit(X_train, y_train)\n",
    "        y_pred = linearfit.predict(X_test)\n",
    "        \n",
    "        # Evaluamos la prediccion con las metricas.\n",
    "        rmse.append(np.sqrt(mean_squared_error(y_test, y_pred)))\n",
    "        rmsle.append(np.sqrt(mean_squared_log_error(y_test, y_pred)))\n",
    "        r2.append(r2_score(y_test, y_pred))\n",
    "    \n",
    "    return [np.asarray(rmse), np.asarray(rmsle), np.asarray(r2)]"
   ]
  },
  {
   "cell_type": "markdown",
   "metadata": {},
   "source": [
    " ## Caso 1 - Metros Cubiertos vs. Precio"
   ]
  },
  {
   "cell_type": "markdown",
   "metadata": {},
   "source": [
    "#### Consideremos como caso ajustar el precio en función del tamaño de la casa en metros para 100 casas del conjunto de datos."
   ]
  },
  {
   "cell_type": "code",
   "execution_count": 6,
   "metadata": {},
   "outputs": [
    {
     "data": {
      "text/html": [
       "<div>\n",
       "<style scoped>\n",
       "    .dataframe tbody tr th:only-of-type {\n",
       "        vertical-align: middle;\n",
       "    }\n",
       "\n",
       "    .dataframe tbody tr th {\n",
       "        vertical-align: top;\n",
       "    }\n",
       "\n",
       "    .dataframe thead th {\n",
       "        text-align: right;\n",
       "    }\n",
       "</style>\n",
       "<table border=\"1\" class=\"dataframe\">\n",
       "  <thead>\n",
       "    <tr style=\"text-align: right;\">\n",
       "      <th></th>\n",
       "      <th>id</th>\n",
       "      <th>metroscubiertos</th>\n",
       "      <th>precio</th>\n",
       "    </tr>\n",
       "  </thead>\n",
       "  <tbody>\n",
       "    <tr>\n",
       "      <th>131523</th>\n",
       "      <td>96870</td>\n",
       "      <td>76.0</td>\n",
       "      <td>480000.0</td>\n",
       "    </tr>\n",
       "    <tr>\n",
       "      <th>50511</th>\n",
       "      <td>183695</td>\n",
       "      <td>75.0</td>\n",
       "      <td>429000.0</td>\n",
       "    </tr>\n",
       "    <tr>\n",
       "      <th>73589</th>\n",
       "      <td>177916</td>\n",
       "      <td>120.0</td>\n",
       "      <td>850000.0</td>\n",
       "    </tr>\n",
       "    <tr>\n",
       "      <th>143680</th>\n",
       "      <td>62833</td>\n",
       "      <td>60.0</td>\n",
       "      <td>400000.0</td>\n",
       "    </tr>\n",
       "    <tr>\n",
       "      <th>64384</th>\n",
       "      <td>98953</td>\n",
       "      <td>133.0</td>\n",
       "      <td>1080000.0</td>\n",
       "    </tr>\n",
       "    <tr>\n",
       "      <th>...</th>\n",
       "      <td>...</td>\n",
       "      <td>...</td>\n",
       "      <td>...</td>\n",
       "    </tr>\n",
       "    <tr>\n",
       "      <th>48970</th>\n",
       "      <td>234593</td>\n",
       "      <td>151.0</td>\n",
       "      <td>1550000.0</td>\n",
       "    </tr>\n",
       "    <tr>\n",
       "      <th>167518</th>\n",
       "      <td>263385</td>\n",
       "      <td>62.0</td>\n",
       "      <td>530000.0</td>\n",
       "    </tr>\n",
       "    <tr>\n",
       "      <th>221889</th>\n",
       "      <td>242479</td>\n",
       "      <td>116.0</td>\n",
       "      <td>1165000.0</td>\n",
       "    </tr>\n",
       "    <tr>\n",
       "      <th>148542</th>\n",
       "      <td>225427</td>\n",
       "      <td>90.0</td>\n",
       "      <td>750000.0</td>\n",
       "    </tr>\n",
       "    <tr>\n",
       "      <th>153277</th>\n",
       "      <td>20941</td>\n",
       "      <td>160.0</td>\n",
       "      <td>1495000.0</td>\n",
       "    </tr>\n",
       "  </tbody>\n",
       "</table>\n",
       "<p>100 rows × 3 columns</p>\n",
       "</div>"
      ],
      "text/plain": [
       "            id  metroscubiertos     precio\n",
       "131523   96870             76.0   480000.0\n",
       "50511   183695             75.0   429000.0\n",
       "73589   177916            120.0   850000.0\n",
       "143680   62833             60.0   400000.0\n",
       "64384    98953            133.0  1080000.0\n",
       "...        ...              ...        ...\n",
       "48970   234593            151.0  1550000.0\n",
       "167518  263385             62.0   530000.0\n",
       "221889  242479            116.0  1165000.0\n",
       "148542  225427             90.0   750000.0\n",
       "153277   20941            160.0  1495000.0\n",
       "\n",
       "[100 rows x 3 columns]"
      ]
     },
     "metadata": {},
     "output_type": "display_data"
    }
   ],
   "source": [
    "# Tomo una muestra de 100 viviendas del conjunto que tengan todos los campos completos (No queremos ningún \"NaN\" en los datos).\n",
    "seed = np.random.seed(9)\n",
    "train_100 = train.dropna().sample(100, random_state=seed)\n",
    "\n",
    "x_data = train_100[\"metroscubiertos\"].values\n",
    "y_data = train_100[\"precio\"].values\n",
    "\n",
    "display(train_100[[\"id\", \"metroscubiertos\", \"precio\"]])"
   ]
  },
  {
   "cell_type": "code",
   "execution_count": 7,
   "metadata": {},
   "outputs": [
    {
     "data": {
      "text/plain": [
       "count    100.000000\n",
       "mean     143.720000\n",
       "std       79.239323\n",
       "min       45.000000\n",
       "25%       73.750000\n",
       "50%      135.000000\n",
       "75%      178.500000\n",
       "max      404.000000\n",
       "Name: metroscubiertos, dtype: float64"
      ]
     },
     "metadata": {},
     "output_type": "display_data"
    },
    {
     "data": {
      "text/plain": [
       "<matplotlib.axes._subplots.AxesSubplot at 0x7f1cea383670>"
      ]
     },
     "metadata": {},
     "output_type": "display_data"
    },
    {
     "data": {
      "image/png": "[encoded data removed]",
      "text/plain": [
       "<Figure size 432x288 with 1 Axes>"
      ]
     },
     "metadata": {
      "needs_background": "light"
     },
     "output_type": "display_data"
    }
   ],
   "source": [
    "# Veamos un poco de info sobre los metros cubiertos de las viviendas elegidas.\n",
    "display(train_100[\"metroscubiertos\"].describe())\n",
    "\n",
    "ax = train_100[\"metroscubiertos\"].hist()\n",
    "plt.xlabel(r\"Metros Cubiertos $\\left[ \\mathrm{m}^2 \\right]$\")\n",
    "plt.ylabel(\"Cuentas\")\n",
    "ax.figure.savefig(\"Imagenes/Histograma-Metros-Cubiertos.png\")\n",
    "display(ax)"
   ]
  },
  {
   "cell_type": "code",
   "execution_count": 8,
   "metadata": {},
   "outputs": [
    {
     "data": {
      "text/plain": [
       "count    1.000000e+02\n",
       "mean     1.768893e+06\n",
       "std      1.389501e+06\n",
       "min      3.100000e+05\n",
       "25%      7.000000e+05\n",
       "50%      1.222500e+06\n",
       "75%      2.464166e+06\n",
       "max      5.950000e+06\n",
       "Name: precio, dtype: float64"
      ]
     },
     "metadata": {},
     "output_type": "display_data"
    },
    {
     "data": {
      "text/plain": [
       "<matplotlib.axes._subplots.AxesSubplot at 0x7f1ce9c1f280>"
      ]
     },
     "metadata": {},
     "output_type": "display_data"
    },
    {
     "data": {
      "image/png": "[encoded data removed]",
      "text/plain": [
       "<Figure size 432x288 with 1 Axes>"
      ]
     },
     "metadata": {
      "needs_background": "light"
     },
     "output_type": "display_data"
    }
   ],
   "source": [
    "# Veamos un poco de info sobre los precios de las viviendas elegidas.\n",
    "display(train_100[\"precio\"].describe())\n",
    "\n",
    "ax = train_100[\"precio\"].hist()\n",
    "plt.xlabel(\"Precio [MXN$]\")\n",
    "plt.ylabel(\"Cuentas\")\n",
    "ax.figure.savefig(\"Imagenes/Histograma-Precio.png\")\n",
    "display(ax)"
   ]
  },
  {
   "cell_type": "code",
   "execution_count": 9,
   "metadata": {},
   "outputs": [],
   "source": [
    "# Ajustamos.\n",
    "linearfit = metnum.LinearRegression()\n",
    "linearfit.fit(x_data, y_data)"
   ]
  },
  {
   "cell_type": "markdown",
   "metadata": {},
   "source": [
    "#### Ya hecho el ajuste hagamos un gráfico de los datos y del ajuste hallado para comprobar que el algoritmo funcionó correctamente."
   ]
  },
  {
   "cell_type": "code",
   "execution_count": 10,
   "metadata": {},
   "outputs": [
    {
     "data": {
      "image/png": "[encoded data removed]",
      "text/plain": [
       "<Figure size 432x288 with 1 Axes>"
      ]
     },
     "metadata": {
      "needs_background": "light"
     },
     "output_type": "display_data"
    }
   ],
   "source": [
    "x_graph = np.linspace(np.min(x_data), np.max(x_data), 1000)\n",
    "y_graph = linearfit.predict(x_graph)\n",
    "\n",
    "y_graph = y_graph.reshape(y_graph.shape[0])\n",
    "\n",
    "plt.figure(\"precio-metros-cubiertos\")\n",
    "plt.plot(x_data, y_data, \"o\", label=\"Datos\")\n",
    "plt.plot(x_graph, y_graph, \"-\", label=\"Ajuste\")\n",
    "plt.grid()\n",
    "plt.legend()\n",
    "plt.xlabel(r\"Metros cubiertos [$\\mathrm{m}^2$]\")\n",
    "plt.ylabel(\"Precio [MXN$]\")\n",
    "plt.savefig(\"Imagenes/Precio-en-Funcion-de-Metros-Cubiertos.png\")\n",
    "plt.show()"
   ]
  },
  {
   "cell_type": "markdown",
   "metadata": {},
   "source": [
    "#### Notemos que el ajuste parece ser razonable pero claramente se ve afectado por outliers y no determina muy bien el verdadero precio de las viviendas. Veamos el RMSE y el RMSLE del ajuste."
   ]
  },
  {
   "cell_type": "code",
   "execution_count": 11,
   "metadata": {},
   "outputs": [
    {
     "name": "stdout",
     "output_type": "stream",
     "text": [
      "RMSE = (956637.5975146668, 230592.07014532533)\n",
      "RMSLE = (0.5142346115151651, 0.11656001965256825)\n",
      "R2 = (0.25153590001609283, 0.48271317729418595)\n"
     ]
    }
   ],
   "source": [
    "K = 10\n",
    "\n",
    "rmse, rmsle, r2 = KFoldCrossValidation(K, x_data, y_data)\n",
    "\n",
    "print(f\"RMSE = {(np.mean(rmse), np.std(rmse))}\")\n",
    "print(f\"RMSLE = {(np.mean(rmsle), np.std(rmsle))}\")\n",
    "print(f\"R2 = {(np.mean(r2), np.std(r2))}\")"
   ]
  },
  {
   "cell_type": "markdown",
   "metadata": {},
   "source": [
    "#### Notemos que el RMSE es muchísimo mayor que el RMSLE. Esto es razonable, ya que el RMSE es del orden del precio de las viviendas (de los millones de pesos) debido a los outliers. Sin embargo, el RMSLE no se ve tan afectado por outliers ya que es esencialmente el logaritmo del error relativo del ajuste; no del error absoluto."
   ]
  },
  {
   "cell_type": "markdown",
   "metadata": {},
   "source": [
    "#### Ya que tenemos un ajuste razonblemente bueno para el conjunto de datos, usémoslo para eliminar outliers y mejorar el ajuste. Veamos las distancias (euclidianas) de la predicción a cada punto y borremos todos los puntos cuya distancia sea un sigma mayor que la promedia."
   ]
  },
  {
   "cell_type": "code",
   "execution_count": 12,
   "metadata": {},
   "outputs": [
    {
     "name": "stdout",
     "output_type": "stream",
     "text": [
      "[260.0, 300.0, 82.0, 70.0, 206.0, 66.0, 280.0, 70.0, 138.0, 135.0, 264.0, 105.0, 170.0, 250.0, 168.0, 127.0]\n"
     ]
    }
   ],
   "source": [
    "linearfit = metnum.LinearRegression()\n",
    "linearfit.fit(x_data, y_data)\n",
    "y_prediction = linearfit.predict(x_data)\n",
    "\n",
    "y_prediction = y_prediction.reshape(y_prediction.shape[0])\n",
    "\n",
    "distances = np.abs(y_data - y_prediction)\n",
    "mean_distance = np.mean(distances)\n",
    "std_distance = np.std(distances)\n",
    "\n",
    "outliers = []\n",
    "x_new = []\n",
    "y_new = []\n",
    "\n",
    "for i in range(len(distances)):\n",
    "    if (distances[i] < mean_distance - std_distance or distances[i] > mean_distance + std_distance):\n",
    "        outliers.append(x_data[i])\n",
    "    else:\n",
    "        x_new.append(x_data[i])\n",
    "        y_new.append(y_data[i])\n",
    "\n",
    "x_new = np.asarray(x_new)\n",
    "y_new = np.asarray(y_new)      \n",
    "\n",
    "print(outliers)"
   ]
  },
  {
   "cell_type": "markdown",
   "metadata": {},
   "source": [
    "#### Ahora ajustemos con los nuevos datos sin outliers y veamos si el ajuste mejoró."
   ]
  },
  {
   "cell_type": "code",
   "execution_count": 13,
   "metadata": {},
   "outputs": [],
   "source": [
    "linearfit_new = metnum.LinearRegression()\n",
    "linearfit_new.fit(x_new, y_new)"
   ]
  },
  {
   "cell_type": "code",
   "execution_count": 14,
   "metadata": {},
   "outputs": [
    {
     "data": {
      "image/png": "[encoded data removed]",
      "text/plain": [
       "<Figure size 432x288 with 1 Axes>"
      ]
     },
     "metadata": {
      "needs_background": "light"
     },
     "output_type": "display_data"
    }
   ],
   "source": [
    "x_graph_new = np.linspace(np.min(x_new), np.max(x_new), 1000)\n",
    "y_graph_new = linearfit_new.predict(x_graph_new)\n",
    "\n",
    "y_graph_new = y_graph_new.reshape(y_graph_new.shape[0])\n",
    "\n",
    "plt.figure(\"precio-metros-cubiertos-sin-outliers\")\n",
    "plt.plot(x_new, y_new, \"o\", label=\"Datos sin outliers\")\n",
    "plt.plot(x_graph_new, y_graph_new, \"-\", label=\"Ajuste\")\n",
    "plt.grid()\n",
    "plt.legend()\n",
    "plt.xlabel(r\"Metros cubiertos [$\\mathrm{m}^2$]\")\n",
    "plt.ylabel(\"Precio [MXN$]\")\n",
    "plt.savefig(\"Imagenes/Precio-en-Funcion-de-Metros-Cubiertos-sin-outliers.png\")\n",
    "plt.show()"
   ]
  },
  {
   "cell_type": "markdown",
   "metadata": {},
   "source": [
    "#### Si comparamos este nuevo gráfico con el anterior se puede ver que este es mucho menos ruidoso y se nota que se removieron outliers. Veamos el resultado de las métricas."
   ]
  },
  {
   "cell_type": "code",
   "execution_count": 15,
   "metadata": {},
   "outputs": [
    {
     "name": "stdout",
     "output_type": "stream",
     "text": [
      "RMSE = (622985.3863927175, 166390.4866400043)\n",
      "RMSLE = (0.4195674858871298, 0.0733411250374688)\n",
      "R2 = (0.6031945970803357, 0.17734940917481332)\n"
     ]
    }
   ],
   "source": [
    "K = 10\n",
    "\n",
    "rmse, rmsle, r2 = KFoldCrossValidation(K, x_new, y_new)\n",
    "\n",
    "print(f\"RMSE = {(np.mean(rmse), np.std(rmse))}\")\n",
    "print(f\"RMSLE = {(np.mean(rmsle), np.std(rmsle))}\")\n",
    "print(f\"R2 = {(np.mean(r2), np.std(r2))}\")"
   ]
  },
  {
   "cell_type": "markdown",
   "metadata": {},
   "source": [
    "#### Estos errores son notablemente menores que los anteriores."
   ]
  },
  {
   "cell_type": "markdown",
   "metadata": {},
   "source": [
    "## Caso 2 - Latitud y Longitud vs. Precio"
   ]
  },
  {
   "cell_type": "markdown",
   "metadata": {},
   "source": [
    "#### Veamos ahora cómo el precio varía dependiendo de la ubicación de la vivienda. Para eso vamos a usar la latitud y longitud y vamos a ajustar el precio a esas variables."
   ]
  },
  {
   "cell_type": "code",
   "execution_count": 16,
   "metadata": {},
   "outputs": [
    {
     "data": {
      "text/html": [
       "<div>\n",
       "<style scoped>\n",
       "    .dataframe tbody tr th:only-of-type {\n",
       "        vertical-align: middle;\n",
       "    }\n",
       "\n",
       "    .dataframe tbody tr th {\n",
       "        vertical-align: top;\n",
       "    }\n",
       "\n",
       "    .dataframe thead th {\n",
       "        text-align: right;\n",
       "    }\n",
       "</style>\n",
       "<table border=\"1\" class=\"dataframe\">\n",
       "  <thead>\n",
       "    <tr style=\"text-align: right;\">\n",
       "      <th></th>\n",
       "      <th>id</th>\n",
       "      <th>lng</th>\n",
       "      <th>lat</th>\n",
       "      <th>precio</th>\n",
       "    </tr>\n",
       "  </thead>\n",
       "  <tbody>\n",
       "    <tr>\n",
       "      <th>200798</th>\n",
       "      <td>228260</td>\n",
       "      <td>-98.285556</td>\n",
       "      <td>18.981585</td>\n",
       "      <td>2320000.0</td>\n",
       "    </tr>\n",
       "    <tr>\n",
       "      <th>220758</th>\n",
       "      <td>267456</td>\n",
       "      <td>-99.174928</td>\n",
       "      <td>19.362644</td>\n",
       "      <td>4195000.0</td>\n",
       "    </tr>\n",
       "    <tr>\n",
       "      <th>84876</th>\n",
       "      <td>41117</td>\n",
       "      <td>-101.052533</td>\n",
       "      <td>22.160978</td>\n",
       "      <td>1550000.0</td>\n",
       "    </tr>\n",
       "    <tr>\n",
       "      <th>199046</th>\n",
       "      <td>62538</td>\n",
       "      <td>-99.244690</td>\n",
       "      <td>19.569223</td>\n",
       "      <td>2000000.0</td>\n",
       "    </tr>\n",
       "    <tr>\n",
       "      <th>58916</th>\n",
       "      <td>59684</td>\n",
       "      <td>-98.352682</td>\n",
       "      <td>19.113104</td>\n",
       "      <td>1190000.0</td>\n",
       "    </tr>\n",
       "    <tr>\n",
       "      <th>...</th>\n",
       "      <td>...</td>\n",
       "      <td>...</td>\n",
       "      <td>...</td>\n",
       "      <td>...</td>\n",
       "    </tr>\n",
       "    <tr>\n",
       "      <th>164978</th>\n",
       "      <td>262627</td>\n",
       "      <td>-99.203004</td>\n",
       "      <td>18.799797</td>\n",
       "      <td>1400000.0</td>\n",
       "    </tr>\n",
       "    <tr>\n",
       "      <th>18277</th>\n",
       "      <td>287722</td>\n",
       "      <td>-101.721489</td>\n",
       "      <td>21.156781</td>\n",
       "      <td>1700000.0</td>\n",
       "    </tr>\n",
       "    <tr>\n",
       "      <th>230810</th>\n",
       "      <td>168217</td>\n",
       "      <td>-99.081923</td>\n",
       "      <td>19.614459</td>\n",
       "      <td>2500000.0</td>\n",
       "    </tr>\n",
       "    <tr>\n",
       "      <th>60594</th>\n",
       "      <td>93244</td>\n",
       "      <td>-103.427256</td>\n",
       "      <td>20.609078</td>\n",
       "      <td>1200000.0</td>\n",
       "    </tr>\n",
       "    <tr>\n",
       "      <th>154960</th>\n",
       "      <td>238205</td>\n",
       "      <td>-99.147692</td>\n",
       "      <td>19.318168</td>\n",
       "      <td>1280000.0</td>\n",
       "    </tr>\n",
       "  </tbody>\n",
       "</table>\n",
       "<p>500 rows × 4 columns</p>\n",
       "</div>"
      ],
      "text/plain": [
       "            id         lng        lat     precio\n",
       "200798  228260  -98.285556  18.981585  2320000.0\n",
       "220758  267456  -99.174928  19.362644  4195000.0\n",
       "84876    41117 -101.052533  22.160978  1550000.0\n",
       "199046   62538  -99.244690  19.569223  2000000.0\n",
       "58916    59684  -98.352682  19.113104  1190000.0\n",
       "...        ...         ...        ...        ...\n",
       "164978  262627  -99.203004  18.799797  1400000.0\n",
       "18277   287722 -101.721489  21.156781  1700000.0\n",
       "230810  168217  -99.081923  19.614459  2500000.0\n",
       "60594    93244 -103.427256  20.609078  1200000.0\n",
       "154960  238205  -99.147692  19.318168  1280000.0\n",
       "\n",
       "[500 rows x 4 columns]"
      ]
     },
     "metadata": {},
     "output_type": "display_data"
    }
   ],
   "source": [
    "# Tomo una muestra de 500 viviendas del conjunto que tengan todos los campos completos (No queremos ningún \"NaN\" en los datos).\n",
    "# Elijo un seed ya que la imagen de fondo en el grafico esta elegida para cierto rango de latitudes y longitudes.\n",
    "# El numero 6 lo saque de tirar un dado, te lo juro ;)\n",
    "seed = np.random.seed(6)\n",
    "train_500 = train.dropna().sample(500, random_state=seed)\n",
    "\n",
    "deberian_ser_nan = list(set(train_500.index[train_500[\"lng\"] == 0.0].tolist() + train_500.index[train_500[\"lat\"] == 0.0].tolist()))\n",
    "train_500 = train_500.drop(labels=deberian_ser_nan, axis=0)\n",
    "\n",
    "x_data = train_500[[\"lng\", \"lat\"]].values\n",
    "y_data = train_500[\"precio\"].values\n",
    "\n",
    "display(train_500[[\"id\", \"lng\", \"lat\", \"precio\"]])"
   ]
  },
  {
   "cell_type": "code",
   "execution_count": 17,
   "metadata": {},
   "outputs": [
    {
     "name": "stdout",
     "output_type": "stream",
     "text": [
      "Rango de Longitud: (-117.05260661090084, -86.82080286794434)\n",
      "Rango de Latitud: (16.734008226454566, 32.5864807)\n"
     ]
    }
   ],
   "source": [
    "print(\"Rango de Longitud:\", (np.min(x_data[:, 0]), np.max(x_data[:, 0])))\n",
    "print(\"Rango de Latitud:\", (np.min(x_data[:, 1]), np.max(x_data[:, 1])))"
   ]
  },
  {
   "cell_type": "code",
   "execution_count": 18,
   "metadata": {},
   "outputs": [],
   "source": [
    "ajuste = metnum.LinearRegression()\n",
    "ajuste.fit(x_data, y_data)"
   ]
  },
  {
   "cell_type": "code",
   "execution_count": 19,
   "metadata": {},
   "outputs": [],
   "source": [
    "'''\n",
    "\n",
    "Creamos una cuadrilla de 1000x1000 valores de latitud y longitud entre el mínimo y el máximo.\n",
    "\n",
    "Por ejemplo, supongamos que lng = [0, 1, 2] y lat = [0, 1, 2]. Entonces:\n",
    "\n",
    "LNG = [\n",
    "    [0, 1, 2],\n",
    "    [0, 1, 2],\n",
    "    [0, 1, 2]\n",
    "]\n",
    "\n",
    "LAT = [\n",
    "    [0, 0, 0],\n",
    "    [1, 1, 1],\n",
    "    [2, 2, 2]\n",
    "]\n",
    "\n",
    "Lo que queremos entonces es usar el ajuste para obtener otra cuadrilla:\n",
    "\n",
    "y = [\n",
    "    [f(0, 0), f(1, 0), f(2, 0)],\n",
    "    [f(0, 1), f(1, 1), f(2, 1)],\n",
    "    [f(0, 2), f(1, 2), f(2, 2)]\n",
    "]\n",
    "\n",
    "donde f(lng, lat) es la función que ajustamos.\n",
    "\n",
    "'''\n",
    "\n",
    "lng_graph = np.linspace(np.min(x_data[:, 0]), np.max(x_data[:, 0]), 1000)\n",
    "lat_graph = np.linspace(np.min(x_data[:, 1]), np.max(x_data[:, 1]), 1000)\n",
    "LNG_graph, LAT_graph = np.meshgrid(lng_graph, lat_graph)\n",
    "\n",
    "y_graph = []\n",
    "for i in range(LNG_graph.shape[0]):\n",
    "    lng_lat_row = np.column_stack([LNG_graph[i], LAT_graph[i]])\n",
    "    y_row = ajuste.predict(lng_lat_row)\n",
    "    y_row = y_row.reshape(y_row.shape[0])\n",
    "    y_graph.append(y_row)\n",
    "y_graph = np.asarray(y_graph)"
   ]
  },
  {
   "cell_type": "code",
   "execution_count": 20,
   "metadata": {},
   "outputs": [
    {
     "data": {
      "image/png": "[encoded data removed]",
      "text/plain": [
       "<Figure size 690x425 with 2 Axes>"
      ]
     },
     "metadata": {
      "needs_background": "light"
     },
     "output_type": "display_data"
    }
   ],
   "source": [
    "from matplotlib.colors import Normalize\n",
    "\n",
    "mi = np.min(y_graph)\n",
    "ma = np.max(y_graph)\n",
    "norm = Normalize(vmin=mi,vmax=ma)\n",
    "\n",
    "# El mapa lo saqué de openstreetmap.com.\n",
    "mexico = plt.imread(\"Imagenes/mapa_mexico.png\")\n",
    "BBox = (np.min(x_data[:, 0]), np.max(x_data[:, 0]), np.min(x_data[:, 1]), np.max(x_data[:, 1]))\n",
    "\n",
    "plt.figure(2, figsize=(690 / 80, 425 / 80), dpi=80)\n",
    "plt.imshow(mexico, extent=BBox, aspect='equal', alpha=1)\n",
    "plt.contourf(LNG_graph, LAT_graph, y_graph, 200, alpha=0.2, norm=norm, cmap=\"jet\")\n",
    "plt.scatter(x_data[:, 0], x_data[:, 1], c=y_data, s=50, norm=norm, cmap=\"jet\", edgecolor=\"k\")\n",
    "plt.colorbar().set_label(\"Precio [MXN$]\")\n",
    "plt.xlabel(\"Longitud [°]\")\n",
    "plt.ylabel(\"Latitud [°]\")\n",
    "plt.savefig(\"Imagenes/Precio-de-Viviendas-por-Ubicacion.png\")\n",
    "plt.show()"
   ]
  },
  {
   "cell_type": "markdown",
   "metadata": {},
   "source": [
    "#### Notemos que la linealidad del ajuste se refleja en la linealidad del gradiente de colores de fondo que representa la predicción para cada punto del mapa. Según este ajuste las viviendas más caras se encuentran en la costa sur del atlántico. Esta costa es la del caribe, por lo tanto el resultado es razonable. Sin embargo, al ser un ajuste lineal no hay mucha más información que podamos sacar al respecto ya que no puede dividir por zonas."
   ]
  },
  {
   "cell_type": "markdown",
   "metadata": {},
   "source": [
    "#### Veamos los errores."
   ]
  },
  {
   "cell_type": "code",
   "execution_count": 21,
   "metadata": {},
   "outputs": [
    {
     "ename": "NameError",
     "evalue": "name 'RMSE' is not defined",
     "output_type": "error",
     "traceback": [
      "\u001b[0;31m---------------------------------------------------------------------------\u001b[0m",
      "\u001b[0;31mNameError\u001b[0m                                 Traceback (most recent call last)",
      "\u001b[0;32m<ipython-input-21-91ff279ea67c>\u001b[0m in \u001b[0;36m<module>\u001b[0;34m\u001b[0m\n\u001b[1;32m      2\u001b[0m \u001b[0my_prediction\u001b[0m \u001b[0;34m=\u001b[0m \u001b[0my_prediction\u001b[0m\u001b[0;34m.\u001b[0m\u001b[0mreshape\u001b[0m\u001b[0;34m(\u001b[0m\u001b[0my_prediction\u001b[0m\u001b[0;34m.\u001b[0m\u001b[0mshape\u001b[0m\u001b[0;34m[\u001b[0m\u001b[0;36m0\u001b[0m\u001b[0;34m]\u001b[0m\u001b[0;34m)\u001b[0m\u001b[0;34m\u001b[0m\u001b[0;34m\u001b[0m\u001b[0m\n\u001b[1;32m      3\u001b[0m \u001b[0;34m\u001b[0m\u001b[0m\n\u001b[0;32m----> 4\u001b[0;31m \u001b[0mrmse\u001b[0m \u001b[0;34m=\u001b[0m \u001b[0mRMSE\u001b[0m\u001b[0;34m(\u001b[0m\u001b[0my_data\u001b[0m\u001b[0;34m,\u001b[0m \u001b[0my_prediction\u001b[0m\u001b[0;34m)\u001b[0m\u001b[0;34m\u001b[0m\u001b[0;34m\u001b[0m\u001b[0m\n\u001b[0m\u001b[1;32m      5\u001b[0m \u001b[0mrmsle\u001b[0m \u001b[0;34m=\u001b[0m \u001b[0mRMSLE\u001b[0m\u001b[0;34m(\u001b[0m\u001b[0my_data\u001b[0m\u001b[0;34m,\u001b[0m \u001b[0my_prediction\u001b[0m\u001b[0;34m)\u001b[0m\u001b[0;34m\u001b[0m\u001b[0;34m\u001b[0m\u001b[0m\n\u001b[1;32m      6\u001b[0m \u001b[0;34m\u001b[0m\u001b[0m\n",
      "\u001b[0;31mNameError\u001b[0m: name 'RMSE' is not defined"
     ]
    }
   ],
   "source": [
    "y_prediction = ajuste.predict(x_data)\n",
    "y_prediction = y_prediction.reshape(y_prediction.shape[0])\n",
    "\n",
    "rmse = RMSE(y_data, y_prediction)\n",
    "rmsle = RMSLE(y_data, y_prediction)\n",
    "\n",
    "print(\"RMSE =\", rmse)\n",
    "print(\"RMSLE =\", rmsle)"
   ]
  },
  {
   "cell_type": "markdown",
   "metadata": {},
   "source": [
    "### K-Fold Cross Validation"
   ]
  },
  {
   "cell_type": "code",
   "execution_count": null,
   "metadata": {},
   "outputs": [],
   "source": [
    "trainC = train.dropna()\n",
    "x_cross = trainC[[\"lng\", \"lat\"]].values\n",
    "\n",
    "\n",
    "y_cross = trainC[\"precio\"].values\n",
    "kf = KFold(n_splits=5)\n",
    "#kf.get_n_splits(x_data)\n",
    "RMSE_array = np.array([])\n",
    "RMSLE_array = np.array([])\n",
    "for train_index, test_index in kf.split(x_cross):\n",
    "    x_ctrain = x_cross[train_index]\n",
    "    y_ctrain = y_cross[train_index]\n",
    "    x_ctest = x_cross[test_index]\n",
    "    y_ctest = y_cross[test_index]\n",
    "    \n",
    "    ajusteC = metnum.LinearRegression()\n",
    "    ajusteC.fit(x_ctrain, y_ctrain)\n",
    "    predictC = ajusteC.predict(x_ctest)\n",
    "    predictC = predictC.reshape(predictC.shape[0])\n",
    "    rmse = RMSE(y_ctest, predictC)\n",
    "\n",
    "    negativos = np.argwhere(predictC<0)\n",
    "\n",
    "    y_ctest = np.delete(y_ctest, np.argwhere(predictC<0))\n",
    "    predictC = np.delete(predictC, np.argwhere(predictC<0))\n",
    "    rmsle = RMSLE(y_ctest, predictC)\n",
    "    RMSE_array  = np.append(RMSE_array,rmse)\n",
    "    RMSLE_array  = np.append(RMSLE_array, rmsle)\n",
    "###print(RMSE_array)\n",
    "print(\"Promedio y varianza del error para el caso lineal\" )    \n",
    "print(\"RMSE-> Promedio: \", np.mean(RMSE_array) ,\"Varianza: \" , np.sqrt(np.var(RMSE_array)))\n",
    "print(\"RMSLE-> Promedio: \", np.mean(RMSLE_array), \"Varianza: \" , np.sqrt(np.var(RMSLE_array)))\n"
   ]
  },
  {
   "cell_type": "markdown",
   "metadata": {},
   "source": [
    "## Caso 3: Precios de Viviendas en Cancún"
   ]
  },
  {
   "cell_type": "markdown",
   "metadata": {},
   "source": [
    "#### Estudiemos ahora los precios por ubicación pero segmentando a sólo las viviendas en Cancún y permitámosle al ajuste tomar un orden más de libertad para cada variable."
   ]
  },
  {
   "cell_type": "code",
   "execution_count": null,
   "metadata": {},
   "outputs": [],
   "source": [
    "print(\"Provincias:\", train.provincia.unique())\n",
    "\n",
    "QuintanaRoo = train[train[\"provincia\"] == \"Quintana Roo\"]\n",
    "print(\"Ciudades de Quintana Roo:\", QuintanaRoo.ciudad.unique())"
   ]
  },
  {
   "cell_type": "code",
   "execution_count": null,
   "metadata": {},
   "outputs": [],
   "source": [
    "cancun = train[train[\"ciudad\"] == \"Cancún\"].dropna()"
   ]
  },
  {
   "cell_type": "code",
   "execution_count": null,
   "metadata": {},
   "outputs": [],
   "source": [
    "# Defino los límites a mano para obtener viviendas en la zona más poblada de Cancún.\n",
    "outliers = list(set(cancun.index[cancun[\"lng\"] > -86.74].tolist() +\n",
    "                    cancun.index[cancun[\"lng\"] < -86.92].tolist() +\n",
    "                    cancun.index[cancun[\"lat\"] > 21.20].tolist() +\n",
    "                    cancun.index[cancun[\"lat\"] < 21.05].tolist()))\n",
    "cancun = cancun.drop(labels=outliers, axis=0)\n",
    "display(cancun)"
   ]
  },
  {
   "cell_type": "code",
   "execution_count": null,
   "metadata": {},
   "outputs": [],
   "source": [
    "# Son muchas viviendas, tomemos una muestra de 200 del conjunto.\n",
    "seed = np.random.seed(6)\n",
    "cancun = cancun.sample(200, random_state=seed)"
   ]
  },
  {
   "cell_type": "code",
   "execution_count": null,
   "metadata": {},
   "outputs": [],
   "source": [
    "x_data = cancun[[\"lng\", \"lat\"]].values\n",
    "y_data = cancun[\"precio\"].values"
   ]
  },
  {
   "cell_type": "code",
   "execution_count": null,
   "metadata": {},
   "outputs": [],
   "source": [
    "# El mapa lo saqué de openstreetmap.com.\n",
    "mapa_cancun = plt.imread(\"Imagenes/mapa_cancun.png\")\n",
    "BBox = (-86.92, -86.74, 21.05, 21.20)\n",
    "\n",
    "plt.figure(3, figsize=(526 / 80, 470 / 80), dpi=80)\n",
    "plt.imshow(mapa_cancun, extent=BBox, aspect='equal', alpha=1)\n",
    "plt.scatter(x_data[:, 0], x_data[:, 1], c=y_data, s=50, cmap=\"jet\", edgecolor=\"k\")\n",
    "plt.colorbar().set_label(\"Precio [MXN$]\")\n",
    "plt.xlabel(\"Longitud [°]\")\n",
    "plt.ylabel(\"Latitud [°]\")\n",
    "plt.savefig(\"Imagenes/Precio-de-Viviendas-de-Cancun.png\")\n",
    "plt.show()"
   ]
  },
  {
   "cell_type": "code",
   "execution_count": null,
   "metadata": {},
   "outputs": [],
   "source": [
    "# Agrego lng^2, lng * lat y lat^2 a las variables del ajuste.\n",
    "x_fit = np.column_stack([x_data, x_data[:, 0] ** 2, x_data[:, 0] * x_data[:, 1], x_data[:, 1] ** 2])\n",
    "y_fit = y_data"
   ]
  },
  {
   "cell_type": "code",
   "execution_count": null,
   "metadata": {},
   "outputs": [],
   "source": [
    "ajuste = metnum.LinearRegression()\n",
    "ajuste.fit(x_fit, y_fit)"
   ]
  },
  {
   "cell_type": "code",
   "execution_count": null,
   "metadata": {},
   "outputs": [],
   "source": [
    "lng_graph = np.linspace(-86.92, -86.74, 1000)\n",
    "lat_graph = np.linspace(21.05, 21.20, 1000)\n",
    "LNG_graph, LAT_graph = np.meshgrid(lng_graph, lat_graph)\n",
    "\n",
    "y_graph = []\n",
    "for i in range(LNG_graph.shape[0]):\n",
    "    rows = np.column_stack([LNG_graph[i], LAT_graph[i], LNG_graph[i] ** 2, LNG_graph[i] * LAT_graph[i], LAT_graph[i] ** 2])\n",
    "    y_row = ajuste.predict(rows)\n",
    "    y_row = y_row.reshape(y_row.shape[0])\n",
    "    y_graph.append(y_row)\n",
    "y_graph = np.asarray(y_graph)"
   ]
  },
  {
   "cell_type": "code",
   "execution_count": null,
   "metadata": {},
   "outputs": [],
   "source": [
    "mi = np.min(y_graph)\n",
    "ma = np.max(y_graph)\n",
    "norm = Normalize(vmin=mi,vmax=ma)\n",
    "\n",
    "plt.figure(4, figsize=(526 / 80, 470 / 80), dpi=80)\n",
    "plt.imshow(mapa_cancun, extent=BBox, aspect='equal', alpha=1)\n",
    "plt.contourf(LNG_graph, LAT_graph, y_graph, 200, alpha=0.2, norm=norm, cmap=\"jet\")\n",
    "plt.scatter(x_data[:, 0], x_data[:, 1], c=y_data, s=50, norm=norm, cmap=\"jet\", edgecolor=\"k\")\n",
    "plt.colorbar().set_label(\"Precio [MXN$]\")\n",
    "plt.xlabel(\"Longitud [°]\")\n",
    "plt.ylabel(\"Latitud [°]\")\n",
    "plt.savefig(\"Imagenes/Precio-de-Viviendas-en-Cancun-(ConAjuste).png\")\n",
    "plt.show()"
   ]
  },
  {
   "cell_type": "markdown",
   "metadata": {},
   "source": [
    "#### Notemos que como era esperable las viviendas cercanas a la costa son más caras que las alejadas de la costa. Se puede comprobar usando los puntos de la muestra que el ajuste es correcto."
   ]
  },
  {
   "cell_type": "code",
   "execution_count": null,
   "metadata": {},
   "outputs": [],
   "source": [
    "y_prediction = ajuste.predict(x_fit)\n",
    "y_prediction = y_prediction.reshape(y_prediction.shape[0])\n",
    "\n",
    "# Por algun motivo hay un elemento negativo (solo uno :/)\n",
    "y_prediction= np.abs(y_prediction)        \n",
    "\n",
    "rmse = RMSE(y_fit, y_prediction)\n",
    "rmsle = RMSLE(y_fit, y_prediction)\n",
    "\n",
    "print(\"RMSE =\", rmse)\n",
    "print(\"RMSLE =\", rmsle)"
   ]
  },
  {
   "cell_type": "markdown",
   "metadata": {},
   "source": [
    "### K-Fold Cross Validation"
   ]
  },
  {
   "cell_type": "markdown",
   "metadata": {},
   "source": [
    "#### Voy a agregar el método lineal para ver la diferencia en los errores con el cuadrático utilizado."
   ]
  },
  {
   "cell_type": "markdown",
   "metadata": {},
   "source": [
    "#### Hago una función para dejar de copiar y pegar que ya estaba quedando re feo."
   ]
  },
  {
   "cell_type": "code",
   "execution_count": null,
   "metadata": {},
   "outputs": [],
   "source": [
    "###Defino una funcion \n",
    "def K_fold(x_cross,y_cross , k):\n",
    "    kf = KFold(n_splits=k)\n",
    "    #kf.get_n_splits(x_data)\n",
    "    RMSE_array = np.array([])\n",
    "    RMSLE_array = np.array([])\n",
    "    for train_index, test_index in kf.split(x_cross):\n",
    "        x_ctrain = x_cross[train_index]\n",
    "        y_ctrain = y_cross[train_index]\n",
    "        x_ctest = x_cross[test_index]\n",
    "        y_ctest = y_cross[test_index]\n",
    "\n",
    "        ajusteC = metnum.LinearRegression()\n",
    "        ajusteC.fit(x_ctrain, y_ctrain)\n",
    "        predictC = ajusteC.predict(x_ctest)\n",
    "        predictC = predictC.reshape(predictC.shape[0])\n",
    "        rmse = RMSE(y_ctest, predictC)\n",
    "\n",
    "        negativos = np.argwhere(predictC<0)\n",
    "\n",
    "        y_ctest = np.delete(y_ctest, np.argwhere(predictC<0))\n",
    "        predictC = np.delete(predictC, np.argwhere(predictC<0))\n",
    "        rmsle = RMSLE(y_ctest, predictC)\n",
    "        RMSE_array  = np.append(RMSE_array,rmse)\n",
    "        RMSLE_array  = np.append(RMSLE_array, rmsle)\n",
    "    ###print(RMSE_array)\n",
    "    \n",
    "    print(\"RMSE-> Promedio: \", np.mean(RMSE_array) ,\"Varianza: \" , np.sqrt(np.var(RMSE_array)))\n",
    "    print(\"RMSLE-> Promedio: \", np.mean(RMSLE_array), \"Varianza: \" , np.sqrt(np.var(RMSLE_array)))\n",
    "\n",
    "    \n"
   ]
  },
  {
   "cell_type": "code",
   "execution_count": null,
   "metadata": {},
   "outputs": [],
   "source": [
    "trainC = train.dropna()\n",
    "cancun = trainC[trainC[\"ciudad\"] == \"Cancún\"].dropna()\n",
    "cancun = cancun.drop(labels=outliers, axis=0) ### la unica diferencia es que no hago lo redusco a 200 elementos después \n",
    "\n",
    "x_cross = trainC[[\"lng\", \"lat\"]].values\n",
    "y_cross = trainC[\"precio\"].values\n",
    "print(\"Error para aproximacion lineal\")\n",
    "K_fold(x_cross,y_cross , 5)\n",
    "x_cross  = np.column_stack([x_cross, x_cross[:, 0] ** 2, x_cross[:, 0] * x_cross[:, 1], x_cross[:, 1] ** 2])\n",
    "print(\"Error para aproximacion cuadratica\")\n",
    "\n",
    "K_fold(x_cross,y_cross,5)\n"
   ]
  },
  {
   "cell_type": "markdown",
   "metadata": {},
   "source": [
    "## Análisis de las descripciones"
   ]
  },
  {
   "cell_type": "markdown",
   "metadata": {},
   "source": [
    "#### Voy a analizar la aparición de palabras \"positivas\" en las descripciones y observar el resultado al agregarlo como dato en nuestras aproximaciones anteriores."
   ]
  },
  {
   "cell_type": "code",
   "execution_count": null,
   "metadata": {},
   "outputs": [],
   "source": [
    "list(train.columns)\n",
    "display(train[\"descripcion\"][500])\n"
   ]
  },
  {
   "cell_type": "markdown",
   "metadata": {},
   "source": [
    "#### Esta es la lista de palabras que buscaremos"
   ]
  },
  {
   "cell_type": "code",
   "execution_count": null,
   "metadata": {},
   "outputs": [],
   "source": [
    "positivas = [\"hospital\", \"escuela\" , \"colegio\" , \"luminoso\", \"espaciado\" , \"estacionamiento\", \"espacioso\" , \"bonito\" , \"tranquilidad\" , \"preciosa\" , \"precioso\" ]"
   ]
  },
  {
   "cell_type": "code",
   "execution_count": null,
   "metadata": {},
   "outputs": [],
   "source": [
    "def comentarios(entrenar):\n",
    "    listaP = np.array([])\n",
    "    trainP = entrenar.dropna()\n",
    "    for descripcion in (trainP[\"descripcion\"]):\n",
    "        totales = 0;\n",
    "        for palabra in positivas:\n",
    "            if(palabra in descripcion):\n",
    "                totales += 1      \n",
    "        listaP = np.append(listaP, totales)\n",
    "    return listaP\n",
    "listaP = comentarios(train)"
   ]
  },
  {
   "cell_type": "markdown",
   "metadata": {},
   "source": [
    "#### agrego al la cuentas hechas anteriormente par ala latitud y longitud estos datos de forma lineales"
   ]
  },
  {
   "cell_type": "code",
   "execution_count": null,
   "metadata": {},
   "outputs": [],
   "source": [
    "trainC = train.dropna()\n",
    "cancun = trainC[trainC[\"ciudad\"] == \"Cancún\"].dropna()\n",
    "cancun = cancun.drop(labels=outliers, axis=0) ### la unica diferencia es que no hago lo redusco a 200 elementos después \n",
    "\n",
    "x_cross = trainC[[\"lng\", \"lat\"]].values\n",
    "x_cross = np.column_stack([x_cross, listaP])\n",
    "y_cross = trainC[\"precio\"].values\n",
    "print(\"Error para aproximacion lineal con la lista de descripciones positivas\")\n",
    "K_fold(x_cross,y_cross,5)\n",
    "###ver que x_cross ya tenia el listaP\n",
    "x_cross  = np.column_stack([x_cross, x_cross[:, 0] ** 2, x_cross[:, 0] * x_cross[:, 1], x_cross[:, 1] ** 2])\n",
    "y_cross = trainC[\"precio\"].values\n",
    "\n",
    "print(\"Error para aproximacion cuadratica con la lista de descripciones positivas\")\n",
    "K_fold(x_cross,y_cross,5)\n"
   ]
  },
  {
   "cell_type": "code",
   "execution_count": null,
   "metadata": {},
   "outputs": [],
   "source": []
  },
  {
   "cell_type": "markdown",
   "metadata": {},
   "source": [
    "## Se necesita agragar una caractiristica más que se quiera modelar que no se precios\n",
    "#### Voy a observar los metros cubiertos ,utilizando la misma metodologia anterior.\n",
    "#### En primer lugar utilizando voy a comprarlo con la cantidad de habitaciones y baños"
   ]
  },
  {
   "cell_type": "code",
   "execution_count": null,
   "metadata": {},
   "outputs": [],
   "source": [
    "train100 = train.dropna().sample(100, random_state = seed)"
   ]
  },
  {
   "cell_type": "code",
   "execution_count": null,
   "metadata": {},
   "outputs": [],
   "source": [
    "y_data100 = train100[\"metroscubiertos\"] \n",
    "x_data100 = train100[\"habitaciones\"] + train100[\"banos\"] "
   ]
  },
  {
   "cell_type": "code",
   "execution_count": null,
   "metadata": {},
   "outputs": [],
   "source": [
    "\n",
    "ajuste = metnum.LinearRegression()\n",
    "ajuste.fit(x_data100 , y_data100)"
   ]
  },
  {
   "cell_type": "code",
   "execution_count": null,
   "metadata": {},
   "outputs": [],
   "source": [
    "x_graph = np.linspace(np.min(x_data100), np.max(x_data100), 1000)\n",
    "y_graph = ajuste.predict(x_graph)\n",
    "\n",
    "y_graph = y_graph.reshape(y_graph.shape[0])\n",
    "\n",
    "plt.figure(5)\n",
    "plt.title(\"Metros cubiertos en función de la cantidad de habitaciones y baños\")\n",
    "plt.plot(x_data100, y_data100, \"o\", label=\"Datos\")\n",
    "plt.plot(x_graph, y_graph, \"-\", label=\"Ajuste\")\n",
    "plt.grid()\n",
    "plt.legend()\n",
    "plt.xlabel(\"#Habitaciones + #Baños\")\n",
    "plt.ylabel(r\"Metros cubiertos [$\\mathrm{m}^2$]\")\n",
    "plt.show()"
   ]
  },
  {
   "cell_type": "markdown",
   "metadata": {},
   "source": [
    "#### Si bien se puede osbervar que a más cantidad de habitaciones y baños más son los metros cubiertos esta es muy variable y el ajuste no sirve"
   ]
  },
  {
   "cell_type": "markdown",
   "metadata": {},
   "source": [
    "#### Veamos que sucede si miramos a los datos agregamos los garages gimnasios y usos multiples"
   ]
  },
  {
   "cell_type": "code",
   "execution_count": null,
   "metadata": {},
   "outputs": [],
   "source": [
    "y_data100 = train100[\"metroscubiertos\"] \n",
    "x_data100 = train100[\"habitaciones\"] + train100[\"banos\"] +  train100[\"garages\"]\n",
    "print(x_data100.shape)\n",
    "\n",
    "ajuste = metnum.LinearRegression()\n",
    "ajuste.fit(x_data100 , y_data100)\n",
    "x_graph = np.linspace(np.min(x_data100), np.max(x_data100), 1000)\n",
    "y_graph = ajuste.predict(x_graph)\n",
    "\n",
    "y_graph = y_graph.reshape(y_graph.shape[0])\n",
    "\n",
    "plt.figure(6)\n",
    "plt.title(\"Metros cubiertos en función de la cantidad de habitaciones y baños\")\n",
    "plt.plot(x_data100, y_data100, \"o\", label=\"Datos\")\n",
    "plt.plot(x_graph, y_graph, \"-\", label=\"Ajuste\")\n",
    "plt.grid()\n",
    "plt.legend()\n",
    "plt.xlabel(\"#Habitaciones + #Baños + #garage \")\n",
    "plt.ylabel(r\"Metros cubiertos [$\\mathrm{m}^2$]\")\n",
    "plt.savefig(\"Imagenes/Mcubiertos#Habit+B+g.png\")\n",
    "\n",
    "plt.show()"
   ]
  },
  {
   "cell_type": "code",
   "execution_count": null,
   "metadata": {},
   "outputs": [],
   "source": [
    "####Veamos que pasa si solo miro los de una ciudad en especifico"
   ]
  },
  {
   "cell_type": "code",
   "execution_count": null,
   "metadata": {},
   "outputs": [],
   "source": [
    "cancun = train[train[\"ciudad\"] == \"Cancún\"].dropna().sample(100)\n"
   ]
  },
  {
   "cell_type": "markdown",
   "metadata": {},
   "source": [
    "### Que pasa si le agregamos que observe las descripciones ya que estoy auqnue no deberia cambiar nada solo para tener un feature engenier más"
   ]
  },
  {
   "cell_type": "code",
   "execution_count": null,
   "metadata": {},
   "outputs": [],
   "source": [
    "z_comentarios = comentarios(cancun)\n",
    "x_data100 = cancun[\"habitaciones\"] + cancun[\"banos\"] +  cancun[\"garages\"] \n",
    "x_basico = x_data100\n",
    "##x_data100 = np.column_stack([x_data100, z_comentarios])\n",
    "print((x_data100.shape))\n",
    "\n",
    "ajusteC = metnum.LinearRegression()\n",
    "ajusteC.fit(x_data100, y_data100)\n",
    "x_graph = np.linspace(np.min(x_basico), np.max(x_basico), 1000)\n",
    "y_graph = ajuste.predict(x_graph)\n",
    "\n",
    "y_graph = y_graph.reshape(y_graph.shape[0])\n",
    "\n",
    "plt.figure(7)\n",
    "plt.title(\"Metros cubiertos en función de la cantidad de habitaciones y baños\")\n",
    "plt.plot(x_basico, y_data100, \"o\", label=\"Datos\")\n",
    "plt.plot(x_graph, y_graph, \"-\", label=\"Ajuste\")\n",
    "plt.grid()\n",
    "plt.legend()\n",
    "plt.xlabel(\"#Habitaciones + #Baños + #garage \")\n",
    "plt.ylabel(r\"Metros cubiertos [$\\mathrm{m}^2$]\")\n",
    "plt.show()"
   ]
  },
  {
   "cell_type": "markdown",
   "metadata": {},
   "source": [
    "#### No se obserba una correlacion muy distinta de lo observado anteriormente"
   ]
  },
  {
   "cell_type": "markdown",
   "metadata": {},
   "source": [
    "#### No se observa demasiado como con la primera de metros cubierto vs precio pero creo que basta para responder a lo pedido , nomas decir que error tiene  , quedo masomenos safable el primero y el segundo"
   ]
  },
  {
   "cell_type": "markdown",
   "metadata": {},
   "source": [
    "## Veamos como queda el error K fold de los metros cubiertos en función de #habitaciones + #baños + # garages "
   ]
  },
  {
   "cell_type": "code",
   "execution_count": null,
   "metadata": {},
   "outputs": [],
   "source": [
    "trainC = train.dropna()\n",
    "x_dataC = trainC[\"habitaciones\"].values + trainC[\"banos\"].values\n",
    "y_dataC = trainC[\"metroscubiertos\"].values\n",
    "print(\"Metros cubiertos en funcion del número de habitaciones y baños \")\n",
    "K_fold(x_dataC,y_dataC,10)\n",
    "x_dataC = trainC[\"habitaciones\"].values + trainC[\"banos\"].values + trainC[\"garages\"].values\n",
    "y_dataC = trainC[\"metroscubiertos\"].values\n",
    "print(\"Metros cubiertos en funcion del número de habitaciones, garages y baños \")\n",
    "K_fold(x_dataC,y_dataC,10)\n",
    "\n",
    "metrost = trainC[\"metrostotales\"]\n",
    "com = comentarios(trainC)\n",
    "print(\"Metros cubiertos en funcion de tres variables lineales , metrostotales , numero de baños habitacioes y garages\")\n",
    "x_dataC = np.column_stack([x_dataC,metrost ])\n",
    "K_fold(x_dataC,y_dataC,10)\n",
    "print(\"Agrego comentarios positivos como variable\")\n",
    "x_dataC = np.column_stack([x_dataC,com ])\n",
    "K_fold(x_dataC,y_dataC,10)\n",
    "\n"
   ]
  },
  {
   "cell_type": "markdown",
   "metadata": {},
   "source": [
    "#### Se puede observar una disminucion en el valor del error al agregar los metros totales.\n"
   ]
  },
  {
   "cell_type": "code",
   "execution_count": null,
   "metadata": {},
   "outputs": [],
   "source": [
    "z_data100 = train100[\"metroscubiertos\"] \n",
    "x_data100 = train100[\"habitaciones\"] + train100[\"banos\"] +  train100[\"garages\"]\n",
    "y_data100 = train100[\"metrostotales\"]\n",
    "ajustedata = np.column_stack([x_data100,y_data100])\n",
    "ajuste = metnum.LinearRegression()\n",
    "ajuste.fit(ajustedata , y_data100)\n",
    "x_graph = np.linspace(np.min(x_data100), np.max(x_data100), 1000)\n",
    "y_graph = np.linspace(np.min(y_data100), np.max(y_data100), 1000)\n",
    "\n",
    "z_graph = ajuste.predict(np.column_stack([x_graph,y_graph]))\n",
    "\n",
    "#z_graph = z_graph.reshape(z_graph.shape[0])\n"
   ]
  },
  {
   "cell_type": "code",
   "execution_count": null,
   "metadata": {},
   "outputs": [],
   "source": [
    "fig = plt.figure()\n",
    "ax = plt.axes(projection='3d')\n",
    "plt.title(\"Metros cubiertos en función de la cantidad de habitaciones y los metros totales\")\n",
    "\n",
    "ax.scatter3D(x_data100, y_data100, z_data100, c=z_data100, cmap='viridis')\n",
    "ax.scatter3D(x_graph, y_graph, z_graph, c=z_graph, cmap='viridis' )\n",
    "ax.set_xlabel('#cuartos')\n",
    "ax.set_ylabel('Metros totales')\n",
    "ax.set_zlabel('Metros cubiertos')\n",
    "plt.savefig(\"Imagenes/Mcubiertos_MeTotales#hab.png\")\n",
    "\n",
    "ax.view_init(20, 5)"
   ]
  },
  {
   "cell_type": "code",
   "execution_count": null,
   "metadata": {},
   "outputs": [],
   "source": []
  }
 ],
 "metadata": {
  "kernelspec": {
   "display_name": "Python 3",
   "language": "python",
   "name": "python3"
  },
  "language_info": {
   "codemirror_mode": {
    "name": "ipython",
    "version": 3
   },
   "file_extension": ".py",
   "mimetype": "text/x-python",
   "name": "python",
   "nbconvert_exporter": "python",
   "pygments_lexer": "ipython3",
   "version": "3.8.3"
  }
 },
 "nbformat": 4,
 "nbformat_minor": 4
}
